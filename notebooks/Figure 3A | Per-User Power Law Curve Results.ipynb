{
 "cells": [
  {
   "cell_type": "code",
   "execution_count": 2,
   "metadata": {},
   "outputs": [],
   "source": [
    "import numpy as np\n",
    "import pandas as pd\n",
    "import seaborn as sns\n",
    "import sys\n",
    "sys.path.append(\"../\")\n",
    "import matplotlib.pyplot as plt\n",
    "\n",
    "SMALL_SIZE = 14\n",
    "MEDIUM_SIZE = 16\n",
    "BIGGER_SIZE = 20\n",
    "\n",
    "plt.rc('font', size=SMALL_SIZE)          # controls default text sizes\n",
    "plt.rc('axes', titlesize=SMALL_SIZE)     # fontsize of the axes title\n",
    "plt.rc('axes', labelsize=MEDIUM_SIZE)    # fontsize of the x and y labels\n",
    "plt.rc('xtick', labelsize=SMALL_SIZE)    # fontsize of the tick labels\n",
    "plt.rc('ytick', labelsize=SMALL_SIZE)    # fontsize of the tick labels\n",
    "plt.rc('legend', fontsize=SMALL_SIZE)    # legend fontsize\n",
    "plt.rc('figure', titlesize=BIGGER_SIZE)  # fontsize of the figure title\n",
    "\n",
    "from curve_models import power_law, BrokenCurve\n",
    "from tqdm.notebook import tqdm\n",
    "import time\n",
    "sns.set_style('white')\n",
    "def calc_pct(pred_best, pred_worst, pred_curr):\n",
    "    return (pred_worst - pred_curr)/(pred_worst - pred_best)\n",
    "\n",
    "dataset_titles = {'gl': 'GoogleLocal-L', 'gl-tiny': 'GoogleLocal-S', 'ml-20m-tiny': 'MovieLens-S',\n",
    "                 'ml-20m-uniform': 'MovieLens-L'}\n",
    "gl_expmt = '0.1_5_False_uniform_30_0.5_0.5_5800_29000_290001'\n",
    "ml_expmt = '0.1_5_False_uniform_30_0.5_0.5_20000_100000_1000001'\n",
    "mltiny_expmt = '0.1_5_False_uniform_30_0.5_0.5_5250_21000_213973'\n",
    "gltiny_expmt = '0.1_5_False_uniform_30_0.5_0.5_1880_9400_94001'\n",
    "\n",
    "expmts = [('gl', gl_expmt), ('gl-tiny', gltiny_expmt), ('ml-20m-uniform', ml_expmt), ('ml-20m-tiny', mltiny_expmt)]\n",
    "expmts = [('ml-20m-tiny', mltiny_expmt)]\n"
   ]
  },
  {
   "cell_type": "code",
   "execution_count": 39,
   "metadata": {},
   "outputs": [
    {
     "data": {
      "application/vnd.jupyter.widget-view+json": {
       "model_id": "5c96f80188ff47a690ffb13fb2816438",
       "version_major": 2,
       "version_minor": 0
      },
      "text/plain": [
       "HBox(children=(FloatProgress(value=0.0, max=1.0), HTML(value='')))"
      ]
     },
     "metadata": {},
     "output_type": "display_data"
    },
    {
     "data": {
      "application/vnd.jupyter.widget-view+json": {
       "model_id": "65ba04c4309848d7901ba8cc7163a150",
       "version_major": 2,
       "version_minor": 0
      },
      "text/plain": [
       "HBox(children=(FloatProgress(value=1.0, bar_style='info', max=1.0), HTML(value='')))"
      ]
     },
     "metadata": {},
     "output_type": "display_data"
    },
    {
     "data": {
      "application/vnd.jupyter.widget-view+json": {
       "model_id": "77972f5db2584b68a735f115278d6637",
       "version_major": 2,
       "version_minor": 0
      },
      "text/plain": [
       "HBox(children=(FloatProgress(value=0.0, max=1000.0), HTML(value='')))"
      ]
     },
     "metadata": {},
     "output_type": "display_data"
    },
    {
     "name": "stderr",
     "output_type": "stream",
     "text": [
      "/local/divyas/.conda/envs/testaug/lib/python3.7/site-packages/ipykernel_launcher.py:25: RuntimeWarning: divide by zero encountered in double_scalars\n"
     ]
    },
    {
     "name": "stdout",
     "output_type": "stream",
     "text": [
      "\n"
     ]
    },
    {
     "data": {
      "application/vnd.jupyter.widget-view+json": {
       "model_id": "44e1f929f0f245268000c1690198ddb3",
       "version_major": 2,
       "version_minor": 0
      },
      "text/plain": [
       "HBox(children=(FloatProgress(value=0.0, max=1000.0), HTML(value='')))"
      ]
     },
     "metadata": {},
     "output_type": "display_data"
    },
    {
     "name": "stdout",
     "output_type": "stream",
     "text": [
      "\n"
     ]
    },
    {
     "data": {
      "application/vnd.jupyter.widget-view+json": {
       "model_id": "2cd5c56e9df443f7ba0f18cb4ae90b73",
       "version_major": 2,
       "version_minor": 0
      },
      "text/plain": [
       "HBox(children=(FloatProgress(value=0.0, max=1000.0), HTML(value='')))"
      ]
     },
     "metadata": {},
     "output_type": "display_data"
    },
    {
     "name": "stdout",
     "output_type": "stream",
     "text": [
      "\n"
     ]
    },
    {
     "data": {
      "application/vnd.jupyter.widget-view+json": {
       "model_id": "af5d3006408742bf8ba2ac368d0036c7",
       "version_major": 2,
       "version_minor": 0
      },
      "text/plain": [
       "HBox(children=(FloatProgress(value=0.0, max=1000.0), HTML(value='')))"
      ]
     },
     "metadata": {},
     "output_type": "display_data"
    },
    {
     "name": "stdout",
     "output_type": "stream",
     "text": [
      "\n"
     ]
    },
    {
     "data": {
      "application/vnd.jupyter.widget-view+json": {
       "model_id": "fa6d1d84ab0f4f18855dc8aeaf1f777c",
       "version_major": 2,
       "version_minor": 0
      },
      "text/plain": [
       "HBox(children=(FloatProgress(value=0.0, max=1000.0), HTML(value='')))"
      ]
     },
     "metadata": {},
     "output_type": "display_data"
    },
    {
     "name": "stdout",
     "output_type": "stream",
     "text": [
      "\n"
     ]
    },
    {
     "data": {
      "application/vnd.jupyter.widget-view+json": {
       "model_id": "6e0edff9248342949cdcb6211b39012b",
       "version_major": 2,
       "version_minor": 0
      },
      "text/plain": [
       "HBox(children=(FloatProgress(value=0.0, max=1000.0), HTML(value='')))"
      ]
     },
     "metadata": {},
     "output_type": "display_data"
    },
    {
     "name": "stdout",
     "output_type": "stream",
     "text": [
      "\n"
     ]
    },
    {
     "data": {
      "application/vnd.jupyter.widget-view+json": {
       "model_id": "acea9e1429704f90b0a8dc9cce5f70b6",
       "version_major": 2,
       "version_minor": 0
      },
      "text/plain": [
       "HBox(children=(FloatProgress(value=0.0, max=1000.0), HTML(value='')))"
      ]
     },
     "metadata": {},
     "output_type": "display_data"
    },
    {
     "name": "stdout",
     "output_type": "stream",
     "text": [
      "\n"
     ]
    },
    {
     "data": {
      "application/vnd.jupyter.widget-view+json": {
       "model_id": "eb1f08bbeaef4bbfa4f764821decc300",
       "version_major": 2,
       "version_minor": 0
      },
      "text/plain": [
       "HBox(children=(FloatProgress(value=0.0, max=1000.0), HTML(value='')))"
      ]
     },
     "metadata": {},
     "output_type": "display_data"
    },
    {
     "name": "stdout",
     "output_type": "stream",
     "text": [
      "\n"
     ]
    },
    {
     "data": {
      "application/vnd.jupyter.widget-view+json": {
       "model_id": "b5acd54a670c4c81983eb1d2d5e64292",
       "version_major": 2,
       "version_minor": 0
      },
      "text/plain": [
       "HBox(children=(FloatProgress(value=0.0, max=1000.0), HTML(value='')))"
      ]
     },
     "metadata": {},
     "output_type": "display_data"
    },
    {
     "name": "stdout",
     "output_type": "stream",
     "text": [
      "\n"
     ]
    },
    {
     "data": {
      "application/vnd.jupyter.widget-view+json": {
       "model_id": "94df12d385ef44ac8e30d4219600d847",
       "version_major": 2,
       "version_minor": 0
      },
      "text/plain": [
       "HBox(children=(FloatProgress(value=0.0, max=1000.0), HTML(value='')))"
      ]
     },
     "metadata": {},
     "output_type": "display_data"
    },
    {
     "name": "stdout",
     "output_type": "stream",
     "text": [
      "\n"
     ]
    },
    {
     "data": {
      "application/vnd.jupyter.widget-view+json": {
       "model_id": "c50059aea4404c14ae625f2d02821a72",
       "version_major": 2,
       "version_minor": 0
      },
      "text/plain": [
       "HBox(children=(FloatProgress(value=0.0, max=1000.0), HTML(value='')))"
      ]
     },
     "metadata": {},
     "output_type": "display_data"
    },
    {
     "name": "stdout",
     "output_type": "stream",
     "text": [
      "\n"
     ]
    },
    {
     "data": {
      "application/vnd.jupyter.widget-view+json": {
       "model_id": "27e74a63e5d6474c94421108b8171439",
       "version_major": 2,
       "version_minor": 0
      },
      "text/plain": [
       "HBox(children=(FloatProgress(value=0.0, max=1000.0), HTML(value='')))"
      ]
     },
     "metadata": {},
     "output_type": "display_data"
    },
    {
     "name": "stdout",
     "output_type": "stream",
     "text": [
      "\n"
     ]
    },
    {
     "data": {
      "application/vnd.jupyter.widget-view+json": {
       "model_id": "b5a2ec8544ab4bd182a99d8f23eb56d3",
       "version_major": 2,
       "version_minor": 0
      },
      "text/plain": [
       "HBox(children=(FloatProgress(value=0.0, max=1000.0), HTML(value='')))"
      ]
     },
     "metadata": {},
     "output_type": "display_data"
    },
    {
     "name": "stdout",
     "output_type": "stream",
     "text": [
      "\n"
     ]
    },
    {
     "data": {
      "application/vnd.jupyter.widget-view+json": {
       "model_id": "eae007ac9d304bb2ae872464b918087a",
       "version_major": 2,
       "version_minor": 0
      },
      "text/plain": [
       "HBox(children=(FloatProgress(value=0.0, max=1000.0), HTML(value='')))"
      ]
     },
     "metadata": {},
     "output_type": "display_data"
    },
    {
     "name": "stdout",
     "output_type": "stream",
     "text": [
      "\n"
     ]
    },
    {
     "data": {
      "application/vnd.jupyter.widget-view+json": {
       "model_id": "984166fd240a4e36892684ea24a5e278",
       "version_major": 2,
       "version_minor": 0
      },
      "text/plain": [
       "HBox(children=(FloatProgress(value=0.0, max=1000.0), HTML(value='')))"
      ]
     },
     "metadata": {},
     "output_type": "display_data"
    },
    {
     "name": "stdout",
     "output_type": "stream",
     "text": [
      "\n"
     ]
    },
    {
     "data": {
      "application/vnd.jupyter.widget-view+json": {
       "model_id": "8e9296bb0b1c4b8193cbab94ab3f7ed5",
       "version_major": 2,
       "version_minor": 0
      },
      "text/plain": [
       "HBox(children=(FloatProgress(value=0.0, max=1000.0), HTML(value='')))"
      ]
     },
     "metadata": {},
     "output_type": "display_data"
    },
    {
     "name": "stdout",
     "output_type": "stream",
     "text": [
      "\n"
     ]
    },
    {
     "data": {
      "application/vnd.jupyter.widget-view+json": {
       "model_id": "2f66d012f292460186d0805363c795a5",
       "version_major": 2,
       "version_minor": 0
      },
      "text/plain": [
       "HBox(children=(FloatProgress(value=0.0, max=1000.0), HTML(value='')))"
      ]
     },
     "metadata": {},
     "output_type": "display_data"
    },
    {
     "name": "stdout",
     "output_type": "stream",
     "text": [
      "\n"
     ]
    },
    {
     "data": {
      "application/vnd.jupyter.widget-view+json": {
       "model_id": "3f4c8048e85f4e3dba35491fe86c16dd",
       "version_major": 2,
       "version_minor": 0
      },
      "text/plain": [
       "HBox(children=(FloatProgress(value=0.0, max=1000.0), HTML(value='')))"
      ]
     },
     "metadata": {},
     "output_type": "display_data"
    },
    {
     "name": "stdout",
     "output_type": "stream",
     "text": [
      "\n"
     ]
    },
    {
     "data": {
      "application/vnd.jupyter.widget-view+json": {
       "model_id": "a3ee572e5fca4408b0f5fd891318454b",
       "version_major": 2,
       "version_minor": 0
      },
      "text/plain": [
       "HBox(children=(FloatProgress(value=0.0, max=1000.0), HTML(value='')))"
      ]
     },
     "metadata": {},
     "output_type": "display_data"
    },
    {
     "name": "stdout",
     "output_type": "stream",
     "text": [
      "\n"
     ]
    },
    {
     "data": {
      "application/vnd.jupyter.widget-view+json": {
       "model_id": "a96f8eb1054642799bb6a0cdeeaab512",
       "version_major": 2,
       "version_minor": 0
      },
      "text/plain": [
       "HBox(children=(FloatProgress(value=0.0, max=1000.0), HTML(value='')))"
      ]
     },
     "metadata": {},
     "output_type": "display_data"
    },
    {
     "name": "stdout",
     "output_type": "stream",
     "text": [
      "\n"
     ]
    },
    {
     "data": {
      "application/vnd.jupyter.widget-view+json": {
       "model_id": "76e3e9b7a5f1462ab403353bca3bf4af",
       "version_major": 2,
       "version_minor": 0
      },
      "text/plain": [
       "HBox(children=(FloatProgress(value=0.0, max=1000.0), HTML(value='')))"
      ]
     },
     "metadata": {},
     "output_type": "display_data"
    },
    {
     "name": "stdout",
     "output_type": "stream",
     "text": [
      "\n"
     ]
    },
    {
     "data": {
      "application/vnd.jupyter.widget-view+json": {
       "model_id": "98b80f4c8a8b4e508ab4e01287153735",
       "version_major": 2,
       "version_minor": 0
      },
      "text/plain": [
       "HBox(children=(FloatProgress(value=0.0, max=1000.0), HTML(value='')))"
      ]
     },
     "metadata": {},
     "output_type": "display_data"
    },
    {
     "name": "stdout",
     "output_type": "stream",
     "text": [
      "\n"
     ]
    },
    {
     "data": {
      "application/vnd.jupyter.widget-view+json": {
       "model_id": "46c194ab6bd24c089844f4dd72bffb5a",
       "version_major": 2,
       "version_minor": 0
      },
      "text/plain": [
       "HBox(children=(FloatProgress(value=0.0, max=1000.0), HTML(value='')))"
      ]
     },
     "metadata": {},
     "output_type": "display_data"
    },
    {
     "name": "stdout",
     "output_type": "stream",
     "text": [
      "\n"
     ]
    },
    {
     "data": {
      "application/vnd.jupyter.widget-view+json": {
       "model_id": "c7dcea3f1ff8492280cb531d2dc9df29",
       "version_major": 2,
       "version_minor": 0
      },
      "text/plain": [
       "HBox(children=(FloatProgress(value=0.0, max=1000.0), HTML(value='')))"
      ]
     },
     "metadata": {},
     "output_type": "display_data"
    },
    {
     "name": "stdout",
     "output_type": "stream",
     "text": [
      "\n"
     ]
    },
    {
     "data": {
      "application/vnd.jupyter.widget-view+json": {
       "model_id": "03a53dd6a7e64d048a15796a38aafa2d",
       "version_major": 2,
       "version_minor": 0
      },
      "text/plain": [
       "HBox(children=(FloatProgress(value=0.0, max=1000.0), HTML(value='')))"
      ]
     },
     "metadata": {},
     "output_type": "display_data"
    },
    {
     "name": "stdout",
     "output_type": "stream",
     "text": [
      "\n"
     ]
    },
    {
     "data": {
      "application/vnd.jupyter.widget-view+json": {
       "model_id": "856cacb9673d43468c09444da7d18eee",
       "version_major": 2,
       "version_minor": 0
      },
      "text/plain": [
       "HBox(children=(FloatProgress(value=0.0, max=1000.0), HTML(value='')))"
      ]
     },
     "metadata": {},
     "output_type": "display_data"
    },
    {
     "name": "stdout",
     "output_type": "stream",
     "text": [
      "\n"
     ]
    },
    {
     "data": {
      "application/vnd.jupyter.widget-view+json": {
       "model_id": "53a5b1d1b32141b7ad98e57f8dc43778",
       "version_major": 2,
       "version_minor": 0
      },
      "text/plain": [
       "HBox(children=(FloatProgress(value=0.0, max=1000.0), HTML(value='')))"
      ]
     },
     "metadata": {},
     "output_type": "display_data"
    },
    {
     "name": "stdout",
     "output_type": "stream",
     "text": [
      "\n"
     ]
    },
    {
     "data": {
      "application/vnd.jupyter.widget-view+json": {
       "model_id": "41644d89b4744802961c47d591c421e2",
       "version_major": 2,
       "version_minor": 0
      },
      "text/plain": [
       "HBox(children=(FloatProgress(value=0.0, max=1000.0), HTML(value='')))"
      ]
     },
     "metadata": {},
     "output_type": "display_data"
    },
    {
     "name": "stdout",
     "output_type": "stream",
     "text": [
      "\n"
     ]
    },
    {
     "data": {
      "application/vnd.jupyter.widget-view+json": {
       "model_id": "eca6f5a9aecf475a8805e378cc973718",
       "version_major": 2,
       "version_minor": 0
      },
      "text/plain": [
       "HBox(children=(FloatProgress(value=0.0, max=1000.0), HTML(value='')))"
      ]
     },
     "metadata": {},
     "output_type": "display_data"
    },
    {
     "name": "stdout",
     "output_type": "stream",
     "text": [
      "\n"
     ]
    },
    {
     "data": {
      "application/vnd.jupyter.widget-view+json": {
       "model_id": "b8f47a8ad4194099b73333fed689077c",
       "version_major": 2,
       "version_minor": 0
      },
      "text/plain": [
       "HBox(children=(FloatProgress(value=0.0, max=1000.0), HTML(value='')))"
      ]
     },
     "metadata": {},
     "output_type": "display_data"
    },
    {
     "name": "stdout",
     "output_type": "stream",
     "text": [
      "\n"
     ]
    },
    {
     "data": {
      "application/vnd.jupyter.widget-view+json": {
       "model_id": "fee0bdbd8cfc47908b8b25733fd106cf",
       "version_major": 2,
       "version_minor": 0
      },
      "text/plain": [
       "HBox(children=(FloatProgress(value=0.0, max=1000.0), HTML(value='')))"
      ]
     },
     "metadata": {},
     "output_type": "display_data"
    },
    {
     "name": "stdout",
     "output_type": "stream",
     "text": [
      "\n"
     ]
    },
    {
     "data": {
      "application/vnd.jupyter.widget-view+json": {
       "model_id": "db0f14165d1a46abbc1311f2a7a00f0d",
       "version_major": 2,
       "version_minor": 0
      },
      "text/plain": [
       "HBox(children=(FloatProgress(value=0.0, max=1000.0), HTML(value='')))"
      ]
     },
     "metadata": {},
     "output_type": "display_data"
    },
    {
     "name": "stdout",
     "output_type": "stream",
     "text": [
      "\n"
     ]
    },
    {
     "data": {
      "application/vnd.jupyter.widget-view+json": {
       "model_id": "a88280b2015447c5bed04551fba9c531",
       "version_major": 2,
       "version_minor": 0
      },
      "text/plain": [
       "HBox(children=(FloatProgress(value=0.0, max=1000.0), HTML(value='')))"
      ]
     },
     "metadata": {},
     "output_type": "display_data"
    },
    {
     "name": "stdout",
     "output_type": "stream",
     "text": [
      "\n"
     ]
    },
    {
     "data": {
      "application/vnd.jupyter.widget-view+json": {
       "model_id": "5f02a333f4e740688db3354092808bb9",
       "version_major": 2,
       "version_minor": 0
      },
      "text/plain": [
       "HBox(children=(FloatProgress(value=0.0, max=1000.0), HTML(value='')))"
      ]
     },
     "metadata": {},
     "output_type": "display_data"
    },
    {
     "name": "stdout",
     "output_type": "stream",
     "text": [
      "\n"
     ]
    },
    {
     "data": {
      "application/vnd.jupyter.widget-view+json": {
       "model_id": "786b06351a8b4fc08f18fa6439080ef4",
       "version_major": 2,
       "version_minor": 0
      },
      "text/plain": [
       "HBox(children=(FloatProgress(value=0.0, max=1000.0), HTML(value='')))"
      ]
     },
     "metadata": {},
     "output_type": "display_data"
    },
    {
     "name": "stdout",
     "output_type": "stream",
     "text": [
      "\n"
     ]
    },
    {
     "data": {
      "application/vnd.jupyter.widget-view+json": {
       "model_id": "bf1c541efc074268929f3eb6861cdce7",
       "version_major": 2,
       "version_minor": 0
      },
      "text/plain": [
       "HBox(children=(FloatProgress(value=0.0, max=1000.0), HTML(value='')))"
      ]
     },
     "metadata": {},
     "output_type": "display_data"
    },
    {
     "name": "stdout",
     "output_type": "stream",
     "text": [
      "\n"
     ]
    },
    {
     "data": {
      "application/vnd.jupyter.widget-view+json": {
       "model_id": "363605744c224cc88bf73099a7cb5965",
       "version_major": 2,
       "version_minor": 0
      },
      "text/plain": [
       "HBox(children=(FloatProgress(value=0.0, max=1000.0), HTML(value='')))"
      ]
     },
     "metadata": {},
     "output_type": "display_data"
    },
    {
     "name": "stdout",
     "output_type": "stream",
     "text": [
      "\n"
     ]
    },
    {
     "data": {
      "application/vnd.jupyter.widget-view+json": {
       "model_id": "c41c4dfd997c4786a6e22806f026dc26",
       "version_major": 2,
       "version_minor": 0
      },
      "text/plain": [
       "HBox(children=(FloatProgress(value=0.0, max=1000.0), HTML(value='')))"
      ]
     },
     "metadata": {},
     "output_type": "display_data"
    },
    {
     "name": "stdout",
     "output_type": "stream",
     "text": [
      "\n"
     ]
    },
    {
     "data": {
      "application/vnd.jupyter.widget-view+json": {
       "model_id": "1b312373fa5e4dbb8230c7da8fb977af",
       "version_major": 2,
       "version_minor": 0
      },
      "text/plain": [
       "HBox(children=(FloatProgress(value=0.0, max=1000.0), HTML(value='')))"
      ]
     },
     "metadata": {},
     "output_type": "display_data"
    },
    {
     "name": "stdout",
     "output_type": "stream",
     "text": [
      "\n"
     ]
    },
    {
     "data": {
      "application/vnd.jupyter.widget-view+json": {
       "model_id": "f774f4e7a3d54f99bb265c85577832be",
       "version_major": 2,
       "version_minor": 0
      },
      "text/plain": [
       "HBox(children=(FloatProgress(value=0.0, max=1000.0), HTML(value='')))"
      ]
     },
     "metadata": {},
     "output_type": "display_data"
    },
    {
     "name": "stdout",
     "output_type": "stream",
     "text": [
      "\n",
      "\n",
      "\n"
     ]
    },
    {
     "data": {
      "application/vnd.jupyter.widget-view+json": {
       "model_id": "203fe22ca151477babe23b3ee763ca2c",
       "version_major": 2,
       "version_minor": 0
      },
      "text/plain": [
       "HBox(children=(FloatProgress(value=0.0, max=1.0), HTML(value='')))"
      ]
     },
     "metadata": {},
     "output_type": "display_data"
    },
    {
     "data": {
      "application/vnd.jupyter.widget-view+json": {
       "model_id": "43e6729433fc4cd0916a2916a0685a4a",
       "version_major": 2,
       "version_minor": 0
      },
      "text/plain": [
       "HBox(children=(FloatProgress(value=1.0, bar_style='info', max=1.0), HTML(value='')))"
      ]
     },
     "metadata": {},
     "output_type": "display_data"
    },
    {
     "data": {
      "application/vnd.jupyter.widget-view+json": {
       "model_id": "55b37cb581a74b63ad6c90dfc34db8f4",
       "version_major": 2,
       "version_minor": 0
      },
      "text/plain": [
       "HBox(children=(FloatProgress(value=0.0, max=500.0), HTML(value='')))"
      ]
     },
     "metadata": {},
     "output_type": "display_data"
    },
    {
     "name": "stdout",
     "output_type": "stream",
     "text": [
      "\n"
     ]
    },
    {
     "data": {
      "application/vnd.jupyter.widget-view+json": {
       "model_id": "cb512cd94ab7401184538a4ea990ce51",
       "version_major": 2,
       "version_minor": 0
      },
      "text/plain": [
       "HBox(children=(FloatProgress(value=0.0, max=500.0), HTML(value='')))"
      ]
     },
     "metadata": {},
     "output_type": "display_data"
    },
    {
     "name": "stdout",
     "output_type": "stream",
     "text": [
      "\n"
     ]
    },
    {
     "data": {
      "application/vnd.jupyter.widget-view+json": {
       "model_id": "07b9bf619cc844c2ac28f2b46696a6ed",
       "version_major": 2,
       "version_minor": 0
      },
      "text/plain": [
       "HBox(children=(FloatProgress(value=0.0, max=500.0), HTML(value='')))"
      ]
     },
     "metadata": {},
     "output_type": "display_data"
    },
    {
     "name": "stdout",
     "output_type": "stream",
     "text": [
      "\n"
     ]
    },
    {
     "data": {
      "application/vnd.jupyter.widget-view+json": {
       "model_id": "4031e209d7bd426daf1a0e4eca66a57b",
       "version_major": 2,
       "version_minor": 0
      },
      "text/plain": [
       "HBox(children=(FloatProgress(value=0.0, max=500.0), HTML(value='')))"
      ]
     },
     "metadata": {},
     "output_type": "display_data"
    },
    {
     "name": "stdout",
     "output_type": "stream",
     "text": [
      "\n"
     ]
    },
    {
     "data": {
      "application/vnd.jupyter.widget-view+json": {
       "model_id": "904578012d02494e9b883ff10ffa7c1c",
       "version_major": 2,
       "version_minor": 0
      },
      "text/plain": [
       "HBox(children=(FloatProgress(value=0.0, max=500.0), HTML(value='')))"
      ]
     },
     "metadata": {},
     "output_type": "display_data"
    },
    {
     "name": "stdout",
     "output_type": "stream",
     "text": [
      "\n"
     ]
    },
    {
     "data": {
      "application/vnd.jupyter.widget-view+json": {
       "model_id": "60dd8b3b0dfd46eaa42bd11649aa94db",
       "version_major": 2,
       "version_minor": 0
      },
      "text/plain": [
       "HBox(children=(FloatProgress(value=0.0, max=500.0), HTML(value='')))"
      ]
     },
     "metadata": {},
     "output_type": "display_data"
    },
    {
     "name": "stdout",
     "output_type": "stream",
     "text": [
      "\n"
     ]
    },
    {
     "data": {
      "application/vnd.jupyter.widget-view+json": {
       "model_id": "242ae228fa6d487aa81027aca4a537b0",
       "version_major": 2,
       "version_minor": 0
      },
      "text/plain": [
       "HBox(children=(FloatProgress(value=0.0, max=500.0), HTML(value='')))"
      ]
     },
     "metadata": {},
     "output_type": "display_data"
    },
    {
     "name": "stdout",
     "output_type": "stream",
     "text": [
      "\n"
     ]
    },
    {
     "data": {
      "application/vnd.jupyter.widget-view+json": {
       "model_id": "a4b07f34cacf4341bb61f7ac74cda1c0",
       "version_major": 2,
       "version_minor": 0
      },
      "text/plain": [
       "HBox(children=(FloatProgress(value=0.0, max=500.0), HTML(value='')))"
      ]
     },
     "metadata": {},
     "output_type": "display_data"
    },
    {
     "name": "stdout",
     "output_type": "stream",
     "text": [
      "\n"
     ]
    },
    {
     "data": {
      "application/vnd.jupyter.widget-view+json": {
       "model_id": "7c136bc26f6444eab18ebefd44e02014",
       "version_major": 2,
       "version_minor": 0
      },
      "text/plain": [
       "HBox(children=(FloatProgress(value=0.0, max=500.0), HTML(value='')))"
      ]
     },
     "metadata": {},
     "output_type": "display_data"
    },
    {
     "name": "stdout",
     "output_type": "stream",
     "text": [
      "\n"
     ]
    },
    {
     "data": {
      "application/vnd.jupyter.widget-view+json": {
       "model_id": "83d4224e67994da7a9c3215cf128a13f",
       "version_major": 2,
       "version_minor": 0
      },
      "text/plain": [
       "HBox(children=(FloatProgress(value=0.0, max=500.0), HTML(value='')))"
      ]
     },
     "metadata": {},
     "output_type": "display_data"
    },
    {
     "name": "stdout",
     "output_type": "stream",
     "text": [
      "\n"
     ]
    },
    {
     "data": {
      "application/vnd.jupyter.widget-view+json": {
       "model_id": "24bc37e580454eb0be3928dc6558b0b0",
       "version_major": 2,
       "version_minor": 0
      },
      "text/plain": [
       "HBox(children=(FloatProgress(value=0.0, max=500.0), HTML(value='')))"
      ]
     },
     "metadata": {},
     "output_type": "display_data"
    },
    {
     "name": "stdout",
     "output_type": "stream",
     "text": [
      "\n"
     ]
    },
    {
     "data": {
      "application/vnd.jupyter.widget-view+json": {
       "model_id": "d4488d0cd622480c9c69ae2d9c177289",
       "version_major": 2,
       "version_minor": 0
      },
      "text/plain": [
       "HBox(children=(FloatProgress(value=0.0, max=500.0), HTML(value='')))"
      ]
     },
     "metadata": {},
     "output_type": "display_data"
    },
    {
     "name": "stdout",
     "output_type": "stream",
     "text": [
      "\n"
     ]
    },
    {
     "data": {
      "application/vnd.jupyter.widget-view+json": {
       "model_id": "0feef4ea88044f45baf15b122fc6ab74",
       "version_major": 2,
       "version_minor": 0
      },
      "text/plain": [
       "HBox(children=(FloatProgress(value=0.0, max=500.0), HTML(value='')))"
      ]
     },
     "metadata": {},
     "output_type": "display_data"
    },
    {
     "name": "stdout",
     "output_type": "stream",
     "text": [
      "\n"
     ]
    },
    {
     "data": {
      "application/vnd.jupyter.widget-view+json": {
       "model_id": "b8b0bcf5c7044733ba23e8e88986d158",
       "version_major": 2,
       "version_minor": 0
      },
      "text/plain": [
       "HBox(children=(FloatProgress(value=0.0, max=500.0), HTML(value='')))"
      ]
     },
     "metadata": {},
     "output_type": "display_data"
    },
    {
     "name": "stdout",
     "output_type": "stream",
     "text": [
      "\n"
     ]
    },
    {
     "data": {
      "application/vnd.jupyter.widget-view+json": {
       "model_id": "3afbb856ca884c80a932840253c1e4be",
       "version_major": 2,
       "version_minor": 0
      },
      "text/plain": [
       "HBox(children=(FloatProgress(value=0.0, max=500.0), HTML(value='')))"
      ]
     },
     "metadata": {},
     "output_type": "display_data"
    },
    {
     "name": "stdout",
     "output_type": "stream",
     "text": [
      "\n"
     ]
    },
    {
     "data": {
      "application/vnd.jupyter.widget-view+json": {
       "model_id": "57a6c6aa758c4f21805c1af6e506dbe3",
       "version_major": 2,
       "version_minor": 0
      },
      "text/plain": [
       "HBox(children=(FloatProgress(value=0.0, max=500.0), HTML(value='')))"
      ]
     },
     "metadata": {},
     "output_type": "display_data"
    },
    {
     "name": "stdout",
     "output_type": "stream",
     "text": [
      "\n"
     ]
    },
    {
     "data": {
      "application/vnd.jupyter.widget-view+json": {
       "model_id": "4d9d65fac5354c88bd91edb7a383db61",
       "version_major": 2,
       "version_minor": 0
      },
      "text/plain": [
       "HBox(children=(FloatProgress(value=0.0, max=500.0), HTML(value='')))"
      ]
     },
     "metadata": {},
     "output_type": "display_data"
    },
    {
     "name": "stdout",
     "output_type": "stream",
     "text": [
      "\n"
     ]
    },
    {
     "data": {
      "application/vnd.jupyter.widget-view+json": {
       "model_id": "53dbfdc0a6e7464fb93a57d78bcfa693",
       "version_major": 2,
       "version_minor": 0
      },
      "text/plain": [
       "HBox(children=(FloatProgress(value=0.0, max=500.0), HTML(value='')))"
      ]
     },
     "metadata": {},
     "output_type": "display_data"
    },
    {
     "name": "stdout",
     "output_type": "stream",
     "text": [
      "\n"
     ]
    },
    {
     "data": {
      "application/vnd.jupyter.widget-view+json": {
       "model_id": "de908ca528f24d0b89e88590ca793e55",
       "version_major": 2,
       "version_minor": 0
      },
      "text/plain": [
       "HBox(children=(FloatProgress(value=0.0, max=500.0), HTML(value='')))"
      ]
     },
     "metadata": {},
     "output_type": "display_data"
    },
    {
     "name": "stdout",
     "output_type": "stream",
     "text": [
      "\n"
     ]
    },
    {
     "data": {
      "application/vnd.jupyter.widget-view+json": {
       "model_id": "b0b83571dd994192bd76d18f764ba0a9",
       "version_major": 2,
       "version_minor": 0
      },
      "text/plain": [
       "HBox(children=(FloatProgress(value=0.0, max=500.0), HTML(value='')))"
      ]
     },
     "metadata": {},
     "output_type": "display_data"
    },
    {
     "name": "stdout",
     "output_type": "stream",
     "text": [
      "\n"
     ]
    },
    {
     "data": {
      "application/vnd.jupyter.widget-view+json": {
       "model_id": "6c95806b9d3d44a9a0d3537b78532751",
       "version_major": 2,
       "version_minor": 0
      },
      "text/plain": [
       "HBox(children=(FloatProgress(value=0.0, max=500.0), HTML(value='')))"
      ]
     },
     "metadata": {},
     "output_type": "display_data"
    },
    {
     "name": "stdout",
     "output_type": "stream",
     "text": [
      "\n"
     ]
    },
    {
     "data": {
      "application/vnd.jupyter.widget-view+json": {
       "model_id": "9e96cca7bfd94483acba68d6e8615536",
       "version_major": 2,
       "version_minor": 0
      },
      "text/plain": [
       "HBox(children=(FloatProgress(value=0.0, max=500.0), HTML(value='')))"
      ]
     },
     "metadata": {},
     "output_type": "display_data"
    },
    {
     "name": "stdout",
     "output_type": "stream",
     "text": [
      "\n"
     ]
    },
    {
     "data": {
      "application/vnd.jupyter.widget-view+json": {
       "model_id": "d2e6e62bd14d41aaa3665d9412c186c1",
       "version_major": 2,
       "version_minor": 0
      },
      "text/plain": [
       "HBox(children=(FloatProgress(value=0.0, max=500.0), HTML(value='')))"
      ]
     },
     "metadata": {},
     "output_type": "display_data"
    },
    {
     "name": "stdout",
     "output_type": "stream",
     "text": [
      "\n"
     ]
    },
    {
     "data": {
      "application/vnd.jupyter.widget-view+json": {
       "model_id": "1eb56917412a434c905857e8e3a5fca9",
       "version_major": 2,
       "version_minor": 0
      },
      "text/plain": [
       "HBox(children=(FloatProgress(value=0.0, max=500.0), HTML(value='')))"
      ]
     },
     "metadata": {},
     "output_type": "display_data"
    },
    {
     "name": "stdout",
     "output_type": "stream",
     "text": [
      "\n"
     ]
    },
    {
     "data": {
      "application/vnd.jupyter.widget-view+json": {
       "model_id": "f7e138f6aa524a7bb1dce2dd958dec30",
       "version_major": 2,
       "version_minor": 0
      },
      "text/plain": [
       "HBox(children=(FloatProgress(value=0.0, max=500.0), HTML(value='')))"
      ]
     },
     "metadata": {},
     "output_type": "display_data"
    },
    {
     "name": "stdout",
     "output_type": "stream",
     "text": [
      "\n"
     ]
    },
    {
     "data": {
      "application/vnd.jupyter.widget-view+json": {
       "model_id": "cb88ffdbca514996882feba9e8eba85d",
       "version_major": 2,
       "version_minor": 0
      },
      "text/plain": [
       "HBox(children=(FloatProgress(value=0.0, max=500.0), HTML(value='')))"
      ]
     },
     "metadata": {},
     "output_type": "display_data"
    },
    {
     "name": "stdout",
     "output_type": "stream",
     "text": [
      "\n"
     ]
    },
    {
     "data": {
      "application/vnd.jupyter.widget-view+json": {
       "model_id": "79bfd755bd7349afa06252e0ba7548fb",
       "version_major": 2,
       "version_minor": 0
      },
      "text/plain": [
       "HBox(children=(FloatProgress(value=0.0, max=500.0), HTML(value='')))"
      ]
     },
     "metadata": {},
     "output_type": "display_data"
    },
    {
     "name": "stdout",
     "output_type": "stream",
     "text": [
      "\n"
     ]
    },
    {
     "data": {
      "application/vnd.jupyter.widget-view+json": {
       "model_id": "1a0d5940e2564bebb1779de3c295126f",
       "version_major": 2,
       "version_minor": 0
      },
      "text/plain": [
       "HBox(children=(FloatProgress(value=0.0, max=500.0), HTML(value='')))"
      ]
     },
     "metadata": {},
     "output_type": "display_data"
    },
    {
     "name": "stdout",
     "output_type": "stream",
     "text": [
      "\n"
     ]
    },
    {
     "data": {
      "application/vnd.jupyter.widget-view+json": {
       "model_id": "1db0675270c44112a3cd0e7dd60e652d",
       "version_major": 2,
       "version_minor": 0
      },
      "text/plain": [
       "HBox(children=(FloatProgress(value=0.0, max=500.0), HTML(value='')))"
      ]
     },
     "metadata": {},
     "output_type": "display_data"
    },
    {
     "name": "stdout",
     "output_type": "stream",
     "text": [
      "\n"
     ]
    },
    {
     "data": {
      "application/vnd.jupyter.widget-view+json": {
       "model_id": "7ae063c094034e98aed9c0d191c4cb81",
       "version_major": 2,
       "version_minor": 0
      },
      "text/plain": [
       "HBox(children=(FloatProgress(value=0.0, max=500.0), HTML(value='')))"
      ]
     },
     "metadata": {},
     "output_type": "display_data"
    },
    {
     "name": "stdout",
     "output_type": "stream",
     "text": [
      "\n"
     ]
    },
    {
     "data": {
      "application/vnd.jupyter.widget-view+json": {
       "model_id": "e7850e6b87f345d2805b2812a35347ee",
       "version_major": 2,
       "version_minor": 0
      },
      "text/plain": [
       "HBox(children=(FloatProgress(value=0.0, max=500.0), HTML(value='')))"
      ]
     },
     "metadata": {},
     "output_type": "display_data"
    },
    {
     "name": "stdout",
     "output_type": "stream",
     "text": [
      "\n"
     ]
    },
    {
     "data": {
      "application/vnd.jupyter.widget-view+json": {
       "model_id": "ef1e7f764a0d41b5807a23f54ef17918",
       "version_major": 2,
       "version_minor": 0
      },
      "text/plain": [
       "HBox(children=(FloatProgress(value=0.0, max=500.0), HTML(value='')))"
      ]
     },
     "metadata": {},
     "output_type": "display_data"
    },
    {
     "name": "stdout",
     "output_type": "stream",
     "text": [
      "\n"
     ]
    },
    {
     "data": {
      "application/vnd.jupyter.widget-view+json": {
       "model_id": "00bbfec2afcf41db97012ee08b79df44",
       "version_major": 2,
       "version_minor": 0
      },
      "text/plain": [
       "HBox(children=(FloatProgress(value=0.0, max=500.0), HTML(value='')))"
      ]
     },
     "metadata": {},
     "output_type": "display_data"
    },
    {
     "name": "stdout",
     "output_type": "stream",
     "text": [
      "\n"
     ]
    },
    {
     "data": {
      "application/vnd.jupyter.widget-view+json": {
       "model_id": "c9db92eefd44466387299d046eb95ef2",
       "version_major": 2,
       "version_minor": 0
      },
      "text/plain": [
       "HBox(children=(FloatProgress(value=0.0, max=500.0), HTML(value='')))"
      ]
     },
     "metadata": {},
     "output_type": "display_data"
    },
    {
     "name": "stdout",
     "output_type": "stream",
     "text": [
      "\n"
     ]
    },
    {
     "data": {
      "application/vnd.jupyter.widget-view+json": {
       "model_id": "3dbd788d6eba46df92d545deaecdc560",
       "version_major": 2,
       "version_minor": 0
      },
      "text/plain": [
       "HBox(children=(FloatProgress(value=0.0, max=500.0), HTML(value='')))"
      ]
     },
     "metadata": {},
     "output_type": "display_data"
    },
    {
     "name": "stdout",
     "output_type": "stream",
     "text": [
      "\n"
     ]
    },
    {
     "data": {
      "application/vnd.jupyter.widget-view+json": {
       "model_id": "6019187cc303461a9ed8d0a6a6111224",
       "version_major": 2,
       "version_minor": 0
      },
      "text/plain": [
       "HBox(children=(FloatProgress(value=0.0, max=500.0), HTML(value='')))"
      ]
     },
     "metadata": {},
     "output_type": "display_data"
    },
    {
     "name": "stdout",
     "output_type": "stream",
     "text": [
      "\n"
     ]
    },
    {
     "data": {
      "application/vnd.jupyter.widget-view+json": {
       "model_id": "b39a77fbc0714e98a7f8b1a53fe2e827",
       "version_major": 2,
       "version_minor": 0
      },
      "text/plain": [
       "HBox(children=(FloatProgress(value=0.0, max=500.0), HTML(value='')))"
      ]
     },
     "metadata": {},
     "output_type": "display_data"
    },
    {
     "name": "stdout",
     "output_type": "stream",
     "text": [
      "\n"
     ]
    },
    {
     "data": {
      "application/vnd.jupyter.widget-view+json": {
       "model_id": "c1c507140df3441abc49b7e52873be21",
       "version_major": 2,
       "version_minor": 0
      },
      "text/plain": [
       "HBox(children=(FloatProgress(value=0.0, max=500.0), HTML(value='')))"
      ]
     },
     "metadata": {},
     "output_type": "display_data"
    },
    {
     "name": "stdout",
     "output_type": "stream",
     "text": [
      "\n"
     ]
    },
    {
     "data": {
      "application/vnd.jupyter.widget-view+json": {
       "model_id": "fb7c6791fa7e4241a72ca2cddd1fbba2",
       "version_major": 2,
       "version_minor": 0
      },
      "text/plain": [
       "HBox(children=(FloatProgress(value=0.0, max=500.0), HTML(value='')))"
      ]
     },
     "metadata": {},
     "output_type": "display_data"
    },
    {
     "name": "stdout",
     "output_type": "stream",
     "text": [
      "\n"
     ]
    },
    {
     "data": {
      "application/vnd.jupyter.widget-view+json": {
       "model_id": "577faf765ff1470ead4cdad9e7e1b777",
       "version_major": 2,
       "version_minor": 0
      },
      "text/plain": [
       "HBox(children=(FloatProgress(value=0.0, max=500.0), HTML(value='')))"
      ]
     },
     "metadata": {},
     "output_type": "display_data"
    },
    {
     "name": "stdout",
     "output_type": "stream",
     "text": [
      "\n"
     ]
    },
    {
     "data": {
      "application/vnd.jupyter.widget-view+json": {
       "model_id": "83a09e29492f4bf9bfb135c192736b94",
       "version_major": 2,
       "version_minor": 0
      },
      "text/plain": [
       "HBox(children=(FloatProgress(value=0.0, max=500.0), HTML(value='')))"
      ]
     },
     "metadata": {},
     "output_type": "display_data"
    },
    {
     "name": "stdout",
     "output_type": "stream",
     "text": [
      "\n"
     ]
    },
    {
     "data": {
      "application/vnd.jupyter.widget-view+json": {
       "model_id": "2b5f6a4b517b47959ea4d2d859133adb",
       "version_major": 2,
       "version_minor": 0
      },
      "text/plain": [
       "HBox(children=(FloatProgress(value=0.0, max=500.0), HTML(value='')))"
      ]
     },
     "metadata": {},
     "output_type": "display_data"
    },
    {
     "name": "stdout",
     "output_type": "stream",
     "text": [
      "\n"
     ]
    },
    {
     "data": {
      "application/vnd.jupyter.widget-view+json": {
       "model_id": "c4e4b2b72ffc430d9c7864ae2500beab",
       "version_major": 2,
       "version_minor": 0
      },
      "text/plain": [
       "HBox(children=(FloatProgress(value=0.0, max=500.0), HTML(value='')))"
      ]
     },
     "metadata": {},
     "output_type": "display_data"
    },
    {
     "name": "stdout",
     "output_type": "stream",
     "text": [
      "\n"
     ]
    },
    {
     "data": {
      "application/vnd.jupyter.widget-view+json": {
       "model_id": "8565d1c684c0432b9806f27aee9036a5",
       "version_major": 2,
       "version_minor": 0
      },
      "text/plain": [
       "HBox(children=(FloatProgress(value=0.0, max=500.0), HTML(value='')))"
      ]
     },
     "metadata": {},
     "output_type": "display_data"
    },
    {
     "name": "stdout",
     "output_type": "stream",
     "text": [
      "\n"
     ]
    },
    {
     "data": {
      "application/vnd.jupyter.widget-view+json": {
       "model_id": "b8ceceb9edb146dc99988348e342e036",
       "version_major": 2,
       "version_minor": 0
      },
      "text/plain": [
       "HBox(children=(FloatProgress(value=0.0, max=500.0), HTML(value='')))"
      ]
     },
     "metadata": {},
     "output_type": "display_data"
    },
    {
     "name": "stdout",
     "output_type": "stream",
     "text": [
      "\n"
     ]
    },
    {
     "data": {
      "application/vnd.jupyter.widget-view+json": {
       "model_id": "64877bd067a54eb8af5756d1f4d6041b",
       "version_major": 2,
       "version_minor": 0
      },
      "text/plain": [
       "HBox(children=(FloatProgress(value=0.0, max=500.0), HTML(value='')))"
      ]
     },
     "metadata": {},
     "output_type": "display_data"
    },
    {
     "name": "stdout",
     "output_type": "stream",
     "text": [
      "\n"
     ]
    },
    {
     "data": {
      "application/vnd.jupyter.widget-view+json": {
       "model_id": "08bde58853bb41e0bacc551d92992a55",
       "version_major": 2,
       "version_minor": 0
      },
      "text/plain": [
       "HBox(children=(FloatProgress(value=0.0, max=500.0), HTML(value='')))"
      ]
     },
     "metadata": {},
     "output_type": "display_data"
    },
    {
     "name": "stdout",
     "output_type": "stream",
     "text": [
      "\n"
     ]
    },
    {
     "data": {
      "application/vnd.jupyter.widget-view+json": {
       "model_id": "d304299b04574e76a43520128428d61e",
       "version_major": 2,
       "version_minor": 0
      },
      "text/plain": [
       "HBox(children=(FloatProgress(value=0.0, max=500.0), HTML(value='')))"
      ]
     },
     "metadata": {},
     "output_type": "display_data"
    },
    {
     "name": "stdout",
     "output_type": "stream",
     "text": [
      "\n"
     ]
    },
    {
     "data": {
      "application/vnd.jupyter.widget-view+json": {
       "model_id": "aab049fe83b34e16bfd4ddc3f8041c3f",
       "version_major": 2,
       "version_minor": 0
      },
      "text/plain": [
       "HBox(children=(FloatProgress(value=0.0, max=500.0), HTML(value='')))"
      ]
     },
     "metadata": {},
     "output_type": "display_data"
    },
    {
     "name": "stdout",
     "output_type": "stream",
     "text": [
      "\n"
     ]
    },
    {
     "data": {
      "application/vnd.jupyter.widget-view+json": {
       "model_id": "ec220acc87af4774869df2d51dda6a82",
       "version_major": 2,
       "version_minor": 0
      },
      "text/plain": [
       "HBox(children=(FloatProgress(value=0.0, max=500.0), HTML(value='')))"
      ]
     },
     "metadata": {},
     "output_type": "display_data"
    },
    {
     "name": "stdout",
     "output_type": "stream",
     "text": [
      "\n",
      "\n",
      "\n"
     ]
    }
   ],
   "source": [
    "for dataset_name, expmt in expmts:\n",
    "    results_path = '../results/forecasting/' + dataset_name + '/Random/' + expmt +'/'\n",
    "    all_ss = np.loadtxt(results_path + 'sample_sizes')\n",
    "    all_mses = np.loadtxt(results_path + 'mses')\n",
    "    all_test_mses = np.loadtxt(results_path + 'test_mses')\n",
    "    all_macro_mses = np.load(results_path + 'macro_mses.npy')\n",
    "\n",
    "    data = pd.read_csv(results_path + 'results_df')\n",
    "    n_init = data['n_init'].iloc[0]\n",
    "    n_observable = data['n_observable'].iloc[0]\n",
    "    results = []\n",
    "    user_results = []\n",
    "    n_runs = 1\n",
    "    pcts_available = []\n",
    "\n",
    "    for j in tqdm(range(n_runs)):\n",
    "        worst_mse = data[data['run'] == j]['worst_mse'].iloc[0]\n",
    "        best_mse = data[data['run'] == j]['best_mse'].iloc[0]\n",
    "        ss = all_ss[j]\n",
    "        mses = all_mses[j]\n",
    "        test_mses = all_test_mses[j]\n",
    "        macro_mses = all_macro_mses[j]\n",
    "        n_pts = len(np.where(ss) > n_init)\n",
    "        for i, (size, mse) in tqdm(enumerate(zip(ss, mses))):\n",
    "            if size < n_init:\n",
    "                continue\n",
    "            if i == len(ss) -1:\n",
    "                continue\n",
    "            # this method fits a beginning power law curve and an end one\n",
    "            pct_available = (size-n_init)/(n_observable-n_init)\n",
    "            pcts_available.append(pct_available)\n",
    "            true_pct = (worst_mse - mse)/(worst_mse - best_mse)\n",
    "            \n",
    "            slope_before = (mses[i] - mses[i-1])/(ss[i] - ss[i-1])\n",
    "            slope_after = (mses[i+1] - mses[i])/(ss[i+1] - ss[i])\n",
    "            true_slope = .5*(slope_before+slope_after)\n",
    "            results.append({'pred_best': best_mse, 'pred_worst': worst_mse, 'pred_curr': mse,\n",
    "                            'pred_pct': true_pct, 'true_curr': mse, 'cm': 'True',  \n",
    "                            'pct_available': pct_available, 'run': j, 'slope':true_slope})\n",
    "            \n",
    "            broken = BrokenCurve(power_law, 'broken')\n",
    "            broken.fit(ss[:i+1], mses[:i+1])\n",
    "\n",
    "            pred_worst = broken.pred(n_init)\n",
    "            pred_best = broken.pred(n_observable)\n",
    "            pred_curr = broken.pred(size)\n",
    "            slope = broken.slope(ss[i])\n",
    "            pred_pct = calc_pct(pred_best, pred_worst, pred_curr)\n",
    "            \n",
    "            results.append({'pred_best': pred_best, 'pred_worst': pred_worst, 'pred_curr': pred_curr,\n",
    "                            'pred_pct': pred_pct, 'true_curr': mse, 'cm': 'broken',  \n",
    "                            'pct_available': pct_available, 'run': j, 'slope': slope})\n",
    "            \n",
    "            n_users = macro_mses.shape[1]\n",
    "            now = time.time()\n",
    "            all_times = []\n",
    "            for k in tqdm(range(n_users)):\n",
    "                all_times.append(time.time() - now)\n",
    "                now=time.time()\n",
    "                user_macro_mses = macro_mses[:,k]\n",
    "                one = time.time() - now\n",
    "               \n",
    "                broken = BrokenCurve(power_law, 'broken')\n",
    "                broken.fit(ss[:i+1], user_macro_mses[:i+1])\n",
    "                \n",
    "                macro_mse_delta = user_macro_mses[i+1] - user_macro_mses[i-1]\n",
    "                size_delta = ss[i+1] - ss[i-1]\n",
    "                true_user_slope = macro_mse_delta/size_delta \n",
    "                \n",
    "                pred_worst = broken.pred(n_init)\n",
    "                pred_best = broken.pred(n_observable)\n",
    "                pred_curr = broken.pred(size)\n",
    "                pred_user_slope = broken.slope(ss[i])\n",
    "                pred_pct = calc_pct(pred_best, pred_worst, pred_curr)\n",
    "                true_pct = calc_pct(user_macro_mses[i], user_macro_mses[5], \n",
    "                                    user_macro_mses[-1])\n",
    "                user_results.append({'pred_best': pred_best, 'pred_worst': pred_worst, \n",
    "                                     'pred_curr': pred_curr, 'cm': 'broken',\n",
    "                                     'pred_pct': pred_pct, 'pct_available': pct_available,\n",
    "                                     'run': j, 'user': k, 'true_best': user_macro_mses[-1],\n",
    "                                     'true_worst': user_macro_mses[5], 'slope': pred_user_slope,\n",
    "                                     'true_pct': true_pct})\n",
    "                \n",
    "                user_results.append({'pred_best': user_macro_mses[-1], \n",
    "                                     'pred_worst': user_macro_mses[5], \n",
    "                                     'pred_curr': user_macro_mses[i], 'cm': 'True',\n",
    "                                     'pred_pct': true_pct, 'true_best': user_macro_mses[-1],\n",
    "                                     'true_worst': user_macro_mses[5], 'slope': true_user_slope,\n",
    "                                     'true_pct': true_pct, 'pct_available': pct_available,\n",
    "                                     'run': j, 'user': k})\n",
    "\n",
    "    pd.DataFrame(results).to_csv('../results/forecasting/' + dataset_name + '/pred_performance')\n",
    "    pd.DataFrame(user_results).to_csv('../results/forecasting/' + dataset_name + '/user_pred_performance')"
   ]
  },
  {
   "cell_type": "code",
   "execution_count": 40,
   "metadata": {},
   "outputs": [],
   "source": [
    "dataset_name = 'ml-20m-tiny'\n",
    "expmt = mltiny_expmt\n",
    "results_path = '../results/forecasting/' + dataset_name + '/Random/' + expmt +'/'\n",
    "all_results = pd.read_csv('../results/forecasting/' + dataset_name + '/pred_performance')\n",
    "user_results_df = pd.read_csv('../results/forecasting/' + dataset_name + '/user_pred_performance')\n",
    "data = pd.read_csv(results_path + 'results_df')\n",
    "all_ss = np.loadtxt(results_path + 'sample_sizes')\n",
    "all_mses = np.loadtxt(results_path + 'mses')\n",
    "all_test_mses = np.loadtxt(results_path + 'test_mses')\n",
    "all_macro_mses = np.load(results_path + 'macro_mses.npy')"
   ]
  },
  {
   "cell_type": "code",
   "execution_count": 41,
   "metadata": {},
   "outputs": [
    {
     "data": {
      "application/vnd.jupyter.widget-view+json": {
       "model_id": "61dcefd8662c405780a25069858269cc",
       "version_major": 2,
       "version_minor": 0
      },
      "text/plain": [
       "HBox(children=(FloatProgress(value=1.0, bar_style='info', max=1.0), HTML(value='')))"
      ]
     },
     "metadata": {},
     "output_type": "display_data"
    },
    {
     "name": "stdout",
     "output_type": "stream",
     "text": [
      "\n"
     ]
    },
    {
     "data": {
      "text/plain": [
       "array([-0.1183, -0.0937, -0.0691, -0.0445, -0.02  ,  0.0046,  0.0292,\n",
       "        0.0538,  0.0784,  0.1029,  0.1275,  0.1521,  0.1767,  0.2013,\n",
       "        0.2259,  0.2504,  0.275 ,  0.2996,  0.3242,  0.3488,  0.3733,\n",
       "        0.3979,  0.4225,  0.4471,  0.4717,  0.4962,  0.5208,  0.5454,\n",
       "        0.57  ,  0.5946,  0.6191,  0.6437,  0.6683,  0.6929,  0.7175,\n",
       "        0.742 ,  0.7666,  0.7912,  0.8158,  0.8404,  0.8649,  0.8895,\n",
       "        0.9141,  0.9387,  0.9633,  0.9878])"
      ]
     },
     "execution_count": 41,
     "metadata": {},
     "output_type": "execute_result"
    }
   ],
   "source": [
    "n_init = data['n_init'].iloc[0]\n",
    "n_observable = data['n_observable'].iloc[0]\n",
    "pcts_available = []\n",
    "run = 0\n",
    "ss = all_ss[run]\n",
    "mses = all_mses[run]\n",
    "for i, (size, mse) in tqdm(enumerate(zip(ss, mses))):\n",
    "\n",
    "    # this method fits a beginning power law curve and an end one\n",
    "    pct_available = (size-n_init)/(n_observable-n_init)\n",
    "    pcts_available.append(pct_available)\n",
    "pcts_available = np.around(pcts_available, 4)\n",
    "pcts_available"
   ]
  },
  {
   "cell_type": "code",
   "execution_count": 42,
   "metadata": {},
   "outputs": [
    {
     "data": {
      "text/plain": [
       "Text(0.5, 0.98, 'Distribution of $p_u$ \\n [Global Performance Curves]')"
      ]
     },
     "execution_count": 42,
     "metadata": {},
     "output_type": "execute_result"
    },
    {
     "data": {
      "image/png": "[encoded data removed]",
      "text/plain": [
       "<Figure size 360x576 with 4 Axes>"
      ]
     },
     "metadata": {},
     "output_type": "display_data"
    }
   ],
   "source": [
    "fig, axs = plt.subplots(4, 1, figsize=(5, 8), sharey=True, sharex=True)\n",
    "g_opts = [.6, .7, .8, .9]\n",
    "n_users = all_macro_mses.shape[2]\n",
    "n_runs = 1\n",
    "for j, g in enumerate(g_opts):\n",
    "    gg = all_results[all_results['pred_pct'] > g]\n",
    "    gg = gg.sort_values('pred_pct').groupby(['cm', 'run']).first().reset_index()\n",
    "    pct_collected =  np.around(gg['pct_available'], 4).iloc[0]\n",
    "    stop_idx = np.where(pcts_available == np.around(pct_collected, 4))[0]\n",
    "    #stop_idx = np.min(np.where(np.around(pcts_available, 4) == pct_collected)[0])\n",
    "    user_pcts = []\n",
    "    for k in range(n_runs):\n",
    "        for i in range(n_users):\n",
    "            worst_mse = all_macro_mses[k,5,i]\n",
    "            best_mse = all_macro_mses[k,-1,i]\n",
    "            curr_mse = all_macro_mses[k,stop_idx,i]\n",
    "            user_pcts.append((worst_mse - curr_mse)/(worst_mse - best_mse))\n",
    "    user_pcts = np.array(user_pcts)\n",
    "    ax = axs[j]\n",
    "    ax.hist(user_pcts, range=(-1, 2), bins=40)\n",
    "    #ax.set_title(\"g = \" + str(g))\n",
    "    ax.set_xlim(0, 1.5)\n",
    "    ax.set_ylim(0, 600)\n",
    "    ax.set_yticks([0, 500])\n",
    "    ax.set_xticks([.2, .4, .6, .8, 1.0, 1.2, 1.4])\n",
    "\n",
    "    #ax.set_ylabel(\"# of Users\")\n",
    "    ax.set_xlabel(\"\")\n",
    "    if j != 0:\n",
    "        ax.set_ylabel(\"\")\n",
    "#fig.text(0.5, 0.03, r\"$p_u$\", ha='center')\n",
    "plt.tight_layout(rect=[0, 0.03, 1, 0.90])\n",
    "plt.suptitle(r\"Distribution of $p_u$\" + \" \\n [Global Performance Curves]\")\n"
   ]
  },
  {
   "cell_type": "code",
   "execution_count": 43,
   "metadata": {},
   "outputs": [],
   "source": [
    "dataset_name = 'ml-20m-tiny'\n",
    "user_results_df = pd.read_csv('../results/forecasting/' + dataset_name + '/user_pred_performance')\n",
    "expmt = '5_False_0.1_0.4_uniform_21000_5250_0_30_1_213973_0.5_0.5_0_0.85'\n",
    "results_path = '../results/forecasting/' + dataset_name + '/Random/' + expmt +'/'\n",
    "all_macro_mses = np.load(results_path + 'macro_mses.npy')\n",
    "all_ss = np.loadtxt(results_path + 'sample_sizes')\n",
    "pcts_available = np.around(sorted(set(user_results_df['pct_available'])),4)"
   ]
  },
  {
   "cell_type": "code",
   "execution_count": 68,
   "metadata": {},
   "outputs": [
    {
     "name": "stdout",
     "output_type": "stream",
     "text": [
      "990\n",
      "977\n",
      "953\n",
      "918\n"
     ]
    },
    {
     "data": {
      "text/plain": [
       "Text(0.5, 0.98, 'Distribution of $p_u$\\n[User Performance Curves]')"
      ]
     },
     "execution_count": 68,
     "metadata": {},
     "output_type": "execute_result"
    },
    {
     "data": {
      "image/png": "[encoded data removed]",
      "text/plain": [
       "<Figure size 360x576 with 4 Axes>"
      ]
     },
     "metadata": {},
     "output_type": "display_data"
    }
   ],
   "source": [
    "fig, axs = plt.subplots(4, 1, figsize=(5, 8), sharey=True, sharex=True)\n",
    "g_opts = [.6, .7, .8, .9]\n",
    "pcts_available = \n",
    "user_sets = []\n",
    "for i, g in enumerate(g_opts):\n",
    "    ax = axs[i]\n",
    "    gg = user_results_df[user_results_df['pred_pct'] > g]\n",
    "    gg = gg[gg['cm'] == 'broken']\n",
    "    gg_run = gg.sort_values('pred_pct').groupby(['run', 'user']).first().reset_index()\n",
    "    \n",
    "    #gg_run = gg[(gg['true_pct'] > 0) &  (gg['true_pct'] <= 1)]\n",
    "    #gg_run = gg_run[gg_run['user'].isin(users)]\n",
    "    #user_sets.append(set(gg_run['user']))\n",
    "    print(len(gg_run))\n",
    "    ax.hist(gg_run['true_pct'], range=(-1, 2), bins=40)\n",
    "    #ax.set_title(\"g = \" + str(g))\n",
    "    ax.set_xlim(0, 1.5)\n",
    "    ax.set_ylim(0, 600)\n",
    "    ax.set_yticks([0, 500])\n",
    "    ax.set_xticks([.2, .4, .6, .8, 1.0, 1.2, 1.4])\n",
    "\n",
    "    ax.set_xlabel(\"\")\n",
    "    if j != 0:\n",
    "        ax.set_ylabel(\"\")\n",
    "#fig.text(0.5, 0.03, '$p_u$', ha='center')\n",
    "plt.tight_layout(rect=[0, 0.03, 1, 0.90])\n",
    "fig.suptitle(r\"Distribution of $p_u$\" + \"\\n[User Performance Curves]\")\n"
   ]
  },
  {
   "cell_type": "markdown",
   "metadata": {},
   "source": [
    "## Diminishing Returns Criterion"
   ]
  },
  {
   "cell_type": "code",
   "execution_count": 76,
   "metadata": {},
   "outputs": [
    {
     "data": {
      "text/plain": [
       "Text(0.5, 0.98, 'Distribution of $p_u$ \\n [Global Performance Curves]')"
      ]
     },
     "execution_count": 76,
     "metadata": {},
     "output_type": "execute_result"
    },
    {
     "data": {
      "image/png": "[encoded data removed]",
      "text/plain": [
       "<Figure size 288x576 with 4 Axes>"
      ]
     },
     "metadata": {},
     "output_type": "display_data"
    }
   ],
   "source": [
    "fig, axs = plt.subplots(4, 1, figsize=(4, 8), sharey=True, sharex=True)\n",
    "t_opts = [-.5e-6,  -.3e-6, -.2e-6,-.1e-6]\n",
    "n_users = all_macro_mses.shape[2]\n",
    "n_runs = 1\n",
    "for j, t in enumerate(t_opts):\n",
    "    gg = all_results[all_results['slope'] > t]\n",
    "    gg = gg.sort_values('pct_available').groupby(['cm', 'run']).first().reset_index()\n",
    "    broken_gg = gg[gg['cm'] == 'broken']\n",
    "    pct_collected =  np.around(broken_gg['pct_available'], 4).iloc[0]\n",
    "    stop_idx = np.where(pcts_available == pct_collected)[0]\n",
    "    user_slopes = []\n",
    "    for k in range(n_runs):\n",
    "        for i in range(n_users):\n",
    "            worst_mse = all_macro_mses[k,5,i]\n",
    "            best_mse = all_macro_mses[k,-1,i]\n",
    "            curr_mse = all_macro_mses[k,stop_idx,i]\n",
    "            macro_mse_delta = all_macro_mses[k,stop_idx-1,i] - all_macro_mses[k,stop_idx+1,i]\n",
    "            size_delta = all_ss[k,stop_idx-1] - all_ss[k,stop_idx+1]\n",
    "            user_slope = macro_mse_delta/size_delta\n",
    "            # calculate current slope of user_pcts\n",
    "#             print(all_macro_mses[k,stop_idx-1,i])\n",
    "#             print(macro_mse_delta, size_delta, user_slope)\n",
    "            user_slopes.append(user_slope)\n",
    "    user_slopes = np.array(user_slopes)\n",
    "    ax = axs[j]\n",
    "    ax.hist(user_slopes, range=(-2e-5, 2e-5), bins=40)\n",
    "    #ax.set_title(\"g = \" + str(g))\n",
    "    ax.set_xlim(-2e-5, 2e-5)\n",
    "    ax.set_ylim(0, 200)\n",
    "    ax.set_yticks([0, 200])\n",
    "    #ax.set_xticks([.2, .4, .6, .8, 1.0, 1.2, 1.4])\n",
    "\n",
    "    #ax.set_ylabel(\"# of Users\")\n",
    "    ax.set_xlabel(\"\")\n",
    "    if j != 0:\n",
    "        ax.set_ylabel(\"\")\n",
    "#fig.text(0.5, 0.03, r\"$p_u$\", ha='center')\n",
    "plt.tight_layout(rect=[0, 0.03, 1, 0.90])\n",
    "plt.suptitle(r\"Distribution of $p_u$\" + \" \\n [Global Performance Curves]\")\n"
   ]
  },
  {
   "cell_type": "code",
   "execution_count": 58,
   "metadata": {},
   "outputs": [
    {
     "data": {
      "text/plain": [
       "(array([2.0000e+00, 5.0000e+00, 7.0000e+00, 5.1000e+01, 3.5000e+02,\n",
       "        6.0520e+03, 6.6096e+04, 7.1600e+03, 2.5500e+02, 2.2000e+01]),\n",
       " array([-6.63308956e-05, -5.62621681e-05, -4.61934405e-05, -3.61247130e-05,\n",
       "        -2.60559854e-05, -1.59872579e-05, -5.91853030e-06,  4.15019725e-06,\n",
       "         1.42189248e-05,  2.42876524e-05,  3.43563799e-05]),\n",
       " <BarContainer object of 10 artists>)"
      ]
     },
     "execution_count": 58,
     "metadata": {},
     "output_type": "execute_result"
    },
    {
     "data": {
      "image/png": "[encoded data removed]",
      "text/plain": [
       "<Figure size 432x288 with 1 Axes>"
      ]
     },
     "metadata": {},
     "output_type": "display_data"
    }
   ],
   "source": [
    "plt.hist(user_results_df['slope'])"
   ]
  },
  {
   "cell_type": "code",
   "execution_count": 74,
   "metadata": {},
   "outputs": [
    {
     "name": "stdout",
     "output_type": "stream",
     "text": [
      "1000\n",
      "1000\n",
      "1000\n",
      "1000\n"
     ]
    },
    {
     "data": {
      "text/plain": [
       "Text(0.5, 0.98, 'Distribution of $p_u$\\n[User Performance Curves]')"
      ]
     },
     "execution_count": 74,
     "metadata": {},
     "output_type": "execute_result"
    },
    {
     "data": {
      "image/png": "[encoded data removed]",
      "text/plain": [
       "<Figure size 288x576 with 4 Axes>"
      ]
     },
     "metadata": {},
     "output_type": "display_data"
    }
   ],
   "source": [
    "fig, axs = plt.subplots(4, 1, figsize=(4, 8), sharey=True, sharex=True)\n",
    "t_opts = [-.10e-4, -.05e-4, -.04e-4, -.03e-4]\n",
    "user_sets = []\n",
    "for i, t in enumerate(t_opts):\n",
    "    ax = axs[i]\n",
    "    gg = user_results_df[user_results_df['slope'] > t]\n",
    "    gg = gg[gg['cm'] == 'broken']\n",
    "    print(len(set(gg['user'])))\n",
    "    gg_run = gg.sort_values('pct_available').groupby(['run', 'user']).first().reset_index()\n",
    "    \n",
    "    #gg_run = gg[(gg['true_pct'] > 0) &  (gg['true_pct'] <= 1)]\n",
    "    #gg_run = gg_run[gg_run['user'].isin(users)]\n",
    "    #user_sets.append(set(gg_run['user']))\n",
    "    ax.hist(gg_run['slope'], range=(-1.25e-5, 2e-5), bins=40)\n",
    "    #ax.set_title(\"g = \" + str(g))\n",
    "    ax.set_ylim(0, 200)\n",
    "    ax.set_yticks([0, 200])\n",
    "#     ax.set_xticks([.2, .4, .6, .8, 1.0, 1.2, 1.4])\n",
    "\n",
    "    ax.set_xlabel(\"\")\n",
    "    if j != 0:\n",
    "        ax.set_ylabel(\"\")\n",
    "#fig.text(0.5, 0.03, '$p_u$', ha='center')\n",
    "plt.tight_layout(rect=[0, 0.03, 1, 0.90])\n",
    "fig.suptitle(r\"Distribution of $p_u$\" + \"\\n[User Performance Curves]\")\n"
   ]
  },
  {
   "cell_type": "code",
   "execution_count": null,
   "metadata": {},
   "outputs": [],
   "source": [
    "users = list(set.intersection(*user_sets))"
   ]
  },
  {
   "cell_type": "code",
   "execution_count": null,
   "metadata": {},
   "outputs": [],
   "source": [
    "# 20% of users have a worse per-user MSE given all data than at the beginning"
   ]
  },
  {
   "cell_type": "code",
   "execution_count": null,
   "metadata": {},
   "outputs": [],
   "source": [
    "sns.lineplot(x='pct_available', y='pred_pct', hue='cm', \n",
    "             data=user_results_df[user_results_df['run'] == 0])\n"
   ]
  },
  {
   "cell_type": "code",
   "execution_count": null,
   "metadata": {},
   "outputs": [],
   "source": [
    "sns.lineplot(x='pct_available', y='pred_best', hue='cm', \n",
    "             data=user_results_df[user_results_df['run'] == 0])\n"
   ]
  },
  {
   "cell_type": "code",
   "execution_count": null,
   "metadata": {},
   "outputs": [],
   "source": [
    "gg = user_results_df[user_results_df['user'] == 10]\n",
    "gg = gg[gg['run'] == 2]\n",
    "sns.lineplot(x='pct_available', y='pred_best', hue='cm', \n",
    "             data=gg)\n"
   ]
  },
  {
   "cell_type": "code",
   "execution_count": null,
   "metadata": {},
   "outputs": [],
   "source": [
    "# Plot the distribution of user curves for a given macro_mse curve\n",
    "m_mse_df = []\n",
    "for i in range(5):\n",
    "    for j in range(1000):\n",
    "        for k in range(46):\n",
    "            mse = all_macro_mses[i, k, j]\n",
    "            m_mse_df.append({'run': i, 'user': j, 'ss': all_ss[i][k], 'mse': mse})\n",
    "m_mse_df = pd.DataFrame(m_mse_df)"
   ]
  },
  {
   "cell_type": "code",
   "execution_count": null,
   "metadata": {},
   "outputs": [],
   "source": [
    "sns.lineplot(x='ss', y='mse', data=m_mse_df)\n",
    "plt.xlabel(\"Sample size\")\n",
    "plt.ylabel(\"User MSE\")\n",
    "plt.title(\"User MSEs over Data Collection\")"
   ]
  },
  {
   "cell_type": "code",
   "execution_count": null,
   "metadata": {},
   "outputs": [],
   "source": [
    "plt.plot(all_ss[0], all_macro_mses[0,:,20])"
   ]
  },
  {
   "cell_type": "code",
   "execution_count": null,
   "metadata": {},
   "outputs": [],
   "source": [
    "# can report errors over runs, or over users...over users is a much larger spread.\n",
    "#one_user = user_results_df[user_results_df['user'] == 1]\n",
    "first_run = user_results_df[user_results_df['run'] == 0]\n",
    "# Plot evolution of best performance prediction\n",
    "sns.lineplot(x='pct_available', y='pred_curr', hue='cm', data=first_run)"
   ]
  },
  {
   "cell_type": "code",
   "execution_count": null,
   "metadata": {},
   "outputs": [],
   "source": [
    "f"
   ]
  }
 ],
 "metadata": {
  "kernelspec": {
   "display_name": "Python 3",
   "language": "python",
   "name": "python3"
  },
  "language_info": {
   "codemirror_mode": {
    "name": "ipython",
    "version": 3
   },
   "file_extension": ".py",
   "mimetype": "text/x-python",
   "name": "python",
   "nbconvert_exporter": "python",
   "pygments_lexer": "ipython3",
   "version": "3.7.9"
  }
 },
 "nbformat": 4,
 "nbformat_minor": 4
}
