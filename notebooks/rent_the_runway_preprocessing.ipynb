{
 "cells": [
  {
   "cell_type": "code",
   "execution_count": 15,
   "metadata": {},
   "outputs": [],
   "source": [
    "# RentTheRunway\n",
    "import json\n",
    "import pandas as pd\n",
    "\n",
    "def filter_by_freq(df: pd.DataFrame, column: str, min_freq: int) -> pd.DataFrame:\n",
    "    freq = df[column].value_counts()\n",
    "    frequent_values = freq[freq > min_freq].index\n",
    "    return df[df[column].isin(frequent_values)]\n",
    "def create_id_map(sampled_ids):\n",
    "    sampled_ids = sorted(sampled_ids)\n",
    "    id_map = {x:i for i,x in enumerate(sampled_ids)}\n",
    "    return id_map\n",
    "def print_sample_summary(df, user_col_name='userId', item_col_name='movieId'):\n",
    "    n_unique_users = len(set(df[user_col_name]))\n",
    "    n_unique_items = len(set(df[item_col_name]))\n",
    "    n_ratings = len(df)\n",
    "    print(n_ratings, \" ratings, \", n_unique_users, \" users, \", n_unique_items, \" items\")\n",
    "    print(\"Sparsity: \", n_ratings/(n_unique_users*n_unique_items))\n",
    "\n",
    "lines = []\n",
    "for line in open('../datasets/renttherunway_final_data.json', 'r').readlines():\n",
    "    lines.append(json.loads(line))"
   ]
  },
  {
   "cell_type": "code",
   "execution_count": 16,
   "metadata": {},
   "outputs": [
    {
     "name": "stdout",
     "output_type": "stream",
     "text": [
      "192544  ratings,  105571  users,  5850  items\n",
      "Sparsity:  0.0003117665293831097\n"
     ]
    }
   ],
   "source": [
    "df = pd.DataFrame(lines)\n",
    "df = df.drop(['fit', 'bust size', 'weight', 'rented for', 'review_text', 'body type', \n",
    "              'review_summary', 'category', 'height', 'size', 'age', 'review_date'], axis=1)\n",
    "print_sample_summary(df, 'user_id', 'item_id')"
   ]
  },
  {
   "cell_type": "code",
   "execution_count": 21,
   "metadata": {},
   "outputs": [
    {
     "name": "stdout",
     "output_type": "stream",
     "text": [
      "6035  ratings,  106  users,  3360  items\n",
      "Sparsity:  0.0169446316262354\n"
     ]
    }
   ],
   "source": [
    "filtered_df = filter_by_freq(df, 'user_id', 30)\n",
    "print_sample_summary(filtered_df, 'user_id', 'item_id')\n"
   ]
  },
  {
   "cell_type": "code",
   "execution_count": 26,
   "metadata": {},
   "outputs": [
    {
     "name": "stdout",
     "output_type": "stream",
     "text": [
      "5568  ratings,  100  users,  3202  items\n",
      "Sparsity:  0.017389131792629606\n"
     ]
    }
   ],
   "source": [
    "import numpy as np\n",
    "sampled_uids = list(set(filtered_df['user_id']))\n",
    "sampled_uids = np.random.choice(sampled_uids, 100, replace=False)\n",
    "filtered_df = filtered_df[filtered_df['user_id'].isin(sampled_uids)]\n",
    "sampled_mids = list(set(filtered_df['item_id']))\n",
    "\n",
    "uid_map = create_id_map(sampled_uids)\n",
    "mid_map = create_id_map(sampled_mids)\n",
    "filtered_df['uid'] = filtered_df['user_id'].map(uid_map)\n",
    "filtered_df['mid'] = filtered_df['item_id'].map(mid_map)\n",
    "print_sample_summary(filtered_df, 'user_id', 'item_id')"
   ]
  },
  {
   "cell_type": "code",
   "execution_count": 29,
   "metadata": {},
   "outputs": [
    {
     "name": "stderr",
     "output_type": "stream",
     "text": [
      "/home/t-sdivya/.conda/envs/dm/lib/python3.6/site-packages/ipykernel_launcher.py:10: SettingWithCopyWarning: \n",
      "A value is trying to be set on a copy of a slice from a DataFrame.\n",
      "Try using .loc[row_indexer,col_indexer] = value instead\n",
      "\n",
      "See the caveats in the documentation: https://pandas.pydata.org/pandas-docs/stable/user_guide/indexing.html#returning-a-view-versus-a-copy\n",
      "  # Remove the CWD from sys.path while we load stuff.\n",
      "/home/t-sdivya/.conda/envs/dm/lib/python3.6/site-packages/ipykernel_launcher.py:11: SettingWithCopyWarning: \n",
      "A value is trying to be set on a copy of a slice from a DataFrame.\n",
      "Try using .loc[row_indexer,col_indexer] = value instead\n",
      "\n",
      "See the caveats in the documentation: https://pandas.pydata.org/pandas-docs/stable/user_guide/indexing.html#returning-a-view-versus-a-copy\n",
      "  # This is added back by InteractiveShellApp.init_path()\n",
      "/home/t-sdivya/.conda/envs/dm/lib/python3.6/site-packages/ipykernel_launcher.py:10: SettingWithCopyWarning: \n",
      "A value is trying to be set on a copy of a slice from a DataFrame.\n",
      "Try using .loc[row_indexer,col_indexer] = value instead\n",
      "\n",
      "See the caveats in the documentation: https://pandas.pydata.org/pandas-docs/stable/user_guide/indexing.html#returning-a-view-versus-a-copy\n",
      "  # Remove the CWD from sys.path while we load stuff.\n",
      "/home/t-sdivya/.conda/envs/dm/lib/python3.6/site-packages/ipykernel_launcher.py:11: SettingWithCopyWarning: \n",
      "A value is trying to be set on a copy of a slice from a DataFrame.\n",
      "Try using .loc[row_indexer,col_indexer] = value instead\n",
      "\n",
      "See the caveats in the documentation: https://pandas.pydata.org/pandas-docs/stable/user_guide/indexing.html#returning-a-view-versus-a-copy\n",
      "  # This is added back by InteractiveShellApp.init_path()\n",
      "/home/t-sdivya/.conda/envs/dm/lib/python3.6/site-packages/ipykernel_launcher.py:10: SettingWithCopyWarning: \n",
      "A value is trying to be set on a copy of a slice from a DataFrame.\n",
      "Try using .loc[row_indexer,col_indexer] = value instead\n",
      "\n",
      "See the caveats in the documentation: https://pandas.pydata.org/pandas-docs/stable/user_guide/indexing.html#returning-a-view-versus-a-copy\n",
      "  # Remove the CWD from sys.path while we load stuff.\n",
      "/home/t-sdivya/.conda/envs/dm/lib/python3.6/site-packages/ipykernel_launcher.py:11: SettingWithCopyWarning: \n",
      "A value is trying to be set on a copy of a slice from a DataFrame.\n",
      "Try using .loc[row_indexer,col_indexer] = value instead\n",
      "\n",
      "See the caveats in the documentation: https://pandas.pydata.org/pandas-docs/stable/user_guide/indexing.html#returning-a-view-versus-a-copy\n",
      "  # This is added back by InteractiveShellApp.init_path()\n",
      "/home/t-sdivya/.conda/envs/dm/lib/python3.6/site-packages/ipykernel_launcher.py:10: SettingWithCopyWarning: \n",
      "A value is trying to be set on a copy of a slice from a DataFrame.\n",
      "Try using .loc[row_indexer,col_indexer] = value instead\n",
      "\n",
      "See the caveats in the documentation: https://pandas.pydata.org/pandas-docs/stable/user_guide/indexing.html#returning-a-view-versus-a-copy\n",
      "  # Remove the CWD from sys.path while we load stuff.\n",
      "/home/t-sdivya/.conda/envs/dm/lib/python3.6/site-packages/ipykernel_launcher.py:11: SettingWithCopyWarning: \n",
      "A value is trying to be set on a copy of a slice from a DataFrame.\n",
      "Try using .loc[row_indexer,col_indexer] = value instead\n",
      "\n",
      "See the caveats in the documentation: https://pandas.pydata.org/pandas-docs/stable/user_guide/indexing.html#returning-a-view-versus-a-copy\n",
      "  # This is added back by InteractiveShellApp.init_path()\n",
      "/home/t-sdivya/.conda/envs/dm/lib/python3.6/site-packages/ipykernel_launcher.py:10: SettingWithCopyWarning: \n",
      "A value is trying to be set on a copy of a slice from a DataFrame.\n",
      "Try using .loc[row_indexer,col_indexer] = value instead\n",
      "\n",
      "See the caveats in the documentation: https://pandas.pydata.org/pandas-docs/stable/user_guide/indexing.html#returning-a-view-versus-a-copy\n",
      "  # Remove the CWD from sys.path while we load stuff.\n",
      "/home/t-sdivya/.conda/envs/dm/lib/python3.6/site-packages/ipykernel_launcher.py:11: SettingWithCopyWarning: \n",
      "A value is trying to be set on a copy of a slice from a DataFrame.\n",
      "Try using .loc[row_indexer,col_indexer] = value instead\n",
      "\n",
      "See the caveats in the documentation: https://pandas.pydata.org/pandas-docs/stable/user_guide/indexing.html#returning-a-view-versus-a-copy\n",
      "  # This is added back by InteractiveShellApp.init_path()\n"
     ]
    }
   ],
   "source": [
    "from sklearn.model_selection import train_test_split\n",
    "filtered_df.to_csv('../datasets/rtr/u.data')\n",
    "\n",
    "n_runs = 5\n",
    "for i in range(n_runs):\n",
    "    X = filtered_df.copy()\n",
    "    X = X.sample(frac=1)\n",
    "    uids = X.copy().pop('uid').to_frame()\n",
    "    X_train, X_test, y_train, y_test = train_test_split(X, uids,stratify=uids, test_size=0.2)\n",
    "    X_train['uid'] = y_train.values.squeeze()\n",
    "    X_test['uid'] = y_test.values.squeeze()\n",
    "    X_train.to_csv('../datasets/rtr/u' + str(i) + '.base')\n",
    "    X_test.to_csv('../datasets/rtr/u' + str(i) + '.test')"
   ]
  },
  {
   "cell_type": "code",
   "execution_count": null,
   "metadata": {},
   "outputs": [],
   "source": []
  }
 ],
 "metadata": {
  "kernelspec": {
   "display_name": "Python 3",
   "language": "python",
   "name": "python3"
  },
  "language_info": {
   "codemirror_mode": {
    "name": "ipython",
    "version": 3
   },
   "file_extension": ".py",
   "mimetype": "text/x-python",
   "name": "python",
   "nbconvert_exporter": "python",
   "pygments_lexer": "ipython3",
   "version": "3.6.10"
  }
 },
 "nbformat": 4,
 "nbformat_minor": 4
}
