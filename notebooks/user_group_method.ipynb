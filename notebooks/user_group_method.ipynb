{
 "cells": [
  {
   "cell_type": "code",
   "execution_count": 1,
   "metadata": {},
   "outputs": [
    {
     "data": {
      "text/html": [
       "<div>\n",
       "<style scoped>\n",
       "    .dataframe tbody tr th:only-of-type {\n",
       "        vertical-align: middle;\n",
       "    }\n",
       "\n",
       "    .dataframe tbody tr th {\n",
       "        vertical-align: top;\n",
       "    }\n",
       "\n",
       "    .dataframe thead th {\n",
       "        text-align: right;\n",
       "    }\n",
       "</style>\n",
       "<table border=\"1\" class=\"dataframe\">\n",
       "  <thead>\n",
       "    <tr style=\"text-align: right;\">\n",
       "      <th></th>\n",
       "      <th>Unnamed: 0</th>\n",
       "      <th>dataset</th>\n",
       "      <th>acq_model</th>\n",
       "      <th>mse</th>\n",
       "      <th>cost_var</th>\n",
       "      <th>cost_mean</th>\n",
       "      <th>run</th>\n",
       "      <th>n_available</th>\n",
       "      <th>mc_model</th>\n",
       "      <th>l_val</th>\n",
       "      <th>rmse</th>\n",
       "    </tr>\n",
       "  </thead>\n",
       "  <tbody>\n",
       "    <tr>\n",
       "      <th>0</th>\n",
       "      <td>0</td>\n",
       "      <td>&lt;dataset.Dataset object at 0x7fa7919ca128&gt;</td>\n",
       "      <td>Weighted</td>\n",
       "      <td>463.307439</td>\n",
       "      <td>0.725085</td>\n",
       "      <td>0.799856</td>\n",
       "      <td>0</td>\n",
       "      <td>3341</td>\n",
       "      <td>iterative_SVD</td>\n",
       "      <td>0.0</td>\n",
       "      <td>21.524578</td>\n",
       "    </tr>\n",
       "    <tr>\n",
       "      <th>1</th>\n",
       "      <td>1</td>\n",
       "      <td>&lt;dataset.Dataset object at 0x7fa7919ca128&gt;</td>\n",
       "      <td>Weighted</td>\n",
       "      <td>462.441514</td>\n",
       "      <td>0.778510</td>\n",
       "      <td>0.814221</td>\n",
       "      <td>0</td>\n",
       "      <td>3401</td>\n",
       "      <td>iterative_SVD</td>\n",
       "      <td>0.0</td>\n",
       "      <td>21.504453</td>\n",
       "    </tr>\n",
       "    <tr>\n",
       "      <th>2</th>\n",
       "      <td>2</td>\n",
       "      <td>&lt;dataset.Dataset object at 0x7fa7919ca128&gt;</td>\n",
       "      <td>Weighted</td>\n",
       "      <td>461.568837</td>\n",
       "      <td>0.825776</td>\n",
       "      <td>0.828585</td>\n",
       "      <td>0</td>\n",
       "      <td>3461</td>\n",
       "      <td>iterative_SVD</td>\n",
       "      <td>0.0</td>\n",
       "      <td>21.484153</td>\n",
       "    </tr>\n",
       "    <tr>\n",
       "      <th>3</th>\n",
       "      <td>3</td>\n",
       "      <td>&lt;dataset.Dataset object at 0x7fa7919ca128&gt;</td>\n",
       "      <td>Weighted</td>\n",
       "      <td>461.190221</td>\n",
       "      <td>0.876460</td>\n",
       "      <td>0.842949</td>\n",
       "      <td>0</td>\n",
       "      <td>3521</td>\n",
       "      <td>iterative_SVD</td>\n",
       "      <td>0.0</td>\n",
       "      <td>21.475340</td>\n",
       "    </tr>\n",
       "    <tr>\n",
       "      <th>4</th>\n",
       "      <td>4</td>\n",
       "      <td>&lt;dataset.Dataset object at 0x7fa7919ca128&gt;</td>\n",
       "      <td>Weighted</td>\n",
       "      <td>457.880646</td>\n",
       "      <td>0.933435</td>\n",
       "      <td>0.857314</td>\n",
       "      <td>0</td>\n",
       "      <td>3581</td>\n",
       "      <td>iterative_SVD</td>\n",
       "      <td>0.0</td>\n",
       "      <td>21.398146</td>\n",
       "    </tr>\n",
       "    <tr>\n",
       "      <th>...</th>\n",
       "      <td>...</td>\n",
       "      <td>...</td>\n",
       "      <td>...</td>\n",
       "      <td>...</td>\n",
       "      <td>...</td>\n",
       "      <td>...</td>\n",
       "      <td>...</td>\n",
       "      <td>...</td>\n",
       "      <td>...</td>\n",
       "      <td>...</td>\n",
       "      <td>...</td>\n",
       "    </tr>\n",
       "    <tr>\n",
       "      <th>10995</th>\n",
       "      <td>10995</td>\n",
       "      <td>&lt;dataset.Dataset object at 0x7f79ce4ec0f0&gt;</td>\n",
       "      <td>Weighted</td>\n",
       "      <td>466.350492</td>\n",
       "      <td>0.895800</td>\n",
       "      <td>0.886043</td>\n",
       "      <td>999</td>\n",
       "      <td>3701</td>\n",
       "      <td>iterative_SVD</td>\n",
       "      <td>1.0</td>\n",
       "      <td>21.595150</td>\n",
       "    </tr>\n",
       "    <tr>\n",
       "      <th>10996</th>\n",
       "      <td>10996</td>\n",
       "      <td>&lt;dataset.Dataset object at 0x7f79ce4ec0f0&gt;</td>\n",
       "      <td>Weighted</td>\n",
       "      <td>466.088276</td>\n",
       "      <td>0.931906</td>\n",
       "      <td>0.900407</td>\n",
       "      <td>999</td>\n",
       "      <td>3761</td>\n",
       "      <td>iterative_SVD</td>\n",
       "      <td>1.0</td>\n",
       "      <td>21.589078</td>\n",
       "    </tr>\n",
       "    <tr>\n",
       "      <th>10997</th>\n",
       "      <td>10997</td>\n",
       "      <td>&lt;dataset.Dataset object at 0x7f79ce4ec0f0&gt;</td>\n",
       "      <td>Weighted</td>\n",
       "      <td>465.444690</td>\n",
       "      <td>0.969514</td>\n",
       "      <td>0.914771</td>\n",
       "      <td>999</td>\n",
       "      <td>3821</td>\n",
       "      <td>iterative_SVD</td>\n",
       "      <td>1.0</td>\n",
       "      <td>21.574167</td>\n",
       "    </tr>\n",
       "    <tr>\n",
       "      <th>10998</th>\n",
       "      <td>10998</td>\n",
       "      <td>&lt;dataset.Dataset object at 0x7f79ce4ec0f0&gt;</td>\n",
       "      <td>Weighted</td>\n",
       "      <td>465.692038</td>\n",
       "      <td>0.999527</td>\n",
       "      <td>0.929136</td>\n",
       "      <td>999</td>\n",
       "      <td>3881</td>\n",
       "      <td>iterative_SVD</td>\n",
       "      <td>1.0</td>\n",
       "      <td>21.579899</td>\n",
       "    </tr>\n",
       "    <tr>\n",
       "      <th>10999</th>\n",
       "      <td>10999</td>\n",
       "      <td>&lt;dataset.Dataset object at 0x7f79ce4ec0f0&gt;</td>\n",
       "      <td>Weighted</td>\n",
       "      <td>465.804103</td>\n",
       "      <td>1.042534</td>\n",
       "      <td>0.943500</td>\n",
       "      <td>999</td>\n",
       "      <td>3941</td>\n",
       "      <td>iterative_SVD</td>\n",
       "      <td>1.0</td>\n",
       "      <td>21.582495</td>\n",
       "    </tr>\n",
       "  </tbody>\n",
       "</table>\n",
       "<p>55000 rows × 11 columns</p>\n",
       "</div>"
      ],
      "text/plain": [
       "       Unnamed: 0                                     dataset acq_model  \\\n",
       "0               0  <dataset.Dataset object at 0x7fa7919ca128>  Weighted   \n",
       "1               1  <dataset.Dataset object at 0x7fa7919ca128>  Weighted   \n",
       "2               2  <dataset.Dataset object at 0x7fa7919ca128>  Weighted   \n",
       "3               3  <dataset.Dataset object at 0x7fa7919ca128>  Weighted   \n",
       "4               4  <dataset.Dataset object at 0x7fa7919ca128>  Weighted   \n",
       "...           ...                                         ...       ...   \n",
       "10995       10995  <dataset.Dataset object at 0x7f79ce4ec0f0>  Weighted   \n",
       "10996       10996  <dataset.Dataset object at 0x7f79ce4ec0f0>  Weighted   \n",
       "10997       10997  <dataset.Dataset object at 0x7f79ce4ec0f0>  Weighted   \n",
       "10998       10998  <dataset.Dataset object at 0x7f79ce4ec0f0>  Weighted   \n",
       "10999       10999  <dataset.Dataset object at 0x7f79ce4ec0f0>  Weighted   \n",
       "\n",
       "              mse  cost_var  cost_mean  run  n_available       mc_model  \\\n",
       "0      463.307439  0.725085   0.799856    0         3341  iterative_SVD   \n",
       "1      462.441514  0.778510   0.814221    0         3401  iterative_SVD   \n",
       "2      461.568837  0.825776   0.828585    0         3461  iterative_SVD   \n",
       "3      461.190221  0.876460   0.842949    0         3521  iterative_SVD   \n",
       "4      457.880646  0.933435   0.857314    0         3581  iterative_SVD   \n",
       "...           ...       ...        ...  ...          ...            ...   \n",
       "10995  466.350492  0.895800   0.886043  999         3701  iterative_SVD   \n",
       "10996  466.088276  0.931906   0.900407  999         3761  iterative_SVD   \n",
       "10997  465.444690  0.969514   0.914771  999         3821  iterative_SVD   \n",
       "10998  465.692038  0.999527   0.929136  999         3881  iterative_SVD   \n",
       "10999  465.804103  1.042534   0.943500  999         3941  iterative_SVD   \n",
       "\n",
       "       l_val       rmse  \n",
       "0        0.0  21.524578  \n",
       "1        0.0  21.504453  \n",
       "2        0.0  21.484153  \n",
       "3        0.0  21.475340  \n",
       "4        0.0  21.398146  \n",
       "...      ...        ...  \n",
       "10995    1.0  21.595150  \n",
       "10996    1.0  21.589078  \n",
       "10997    1.0  21.574167  \n",
       "10998    1.0  21.579899  \n",
       "10999    1.0  21.582495  \n",
       "\n",
       "[55000 rows x 11 columns]"
      ]
     },
     "execution_count": 1,
     "metadata": {},
     "output_type": "execute_result"
    }
   ],
   "source": [
    "import pickle\n",
    "import numpy as np\n",
    "import pandas as pd\n",
    "import matplotlib.pyplot as plt\n",
    "import seaborn as sns\n",
    "from tqdm.notebook import tqdm \n",
    "\n",
    "from utils.dataset_helpers import get_dataset\n",
    "from tqdm.notebook import tqdm\n",
    "from utils.dataset_helpers import get_dataset\n",
    "from alipy.query_strategy.query_features import IterativeSVD_mc\n",
    "l_vals = [\"0.0\", \"0.01\", \"0.1\", \"0.5\", \"1.0\"]\n",
    "dataset_name = \"abalone\"\n",
    "l_val = l_vals[0]\n",
    "all_results = []\n",
    "for l_val in l_vals:\n",
    "    expmt = \"results/\" + dataset_name + \"/Weighted_usr/601_0.1_0.2_uniform_0.5_0.5_uniform_\" + l_val + \"_False_20_1000_3\"\n",
    "    results = pd.read_csv(expmt + '/results_df')\n",
    "    results['l_val'] = float(l_val)\n",
    "    results['rmse'] = np.sqrt(results['mse'])\n",
    "    all_results.append(results)\n",
    "all_results = pd.concat(all_results)\n",
    "all_results"
   ]
  },
  {
   "cell_type": "code",
   "execution_count": 4,
   "metadata": {},
   "outputs": [],
   "source": [
    "def impute(mat, observed_idxs):\n",
    "    observed_mask = np.zeros(mat.shape)\n",
    "    for idx in observed_idxs:\n",
    "        observed_mask[idx[0], idx[1]] = 1\n",
    "    \n",
    "    svd_mc = IterativeSVD_mc(rank=3)\n",
    "    imputed_mat = svd_mc.impute(mat, observed_mask=observed_mask)\n",
    "    return imputed_mat\n",
    "\n",
    "def get_user_performance(dataset_name, observed_idxs):\n",
    "    mat = get_dataset(dataset_name)\n",
    "    n_users = mat.shape[0]\n",
    "    # create observed matrix\n",
    "    observed_mat = np.zeros(mat.shape)\n",
    "    for idx in observed_idxs:\n",
    "        observed_mat[idx[0], idx[1]] = mat[idx[0], idx[1]]\n",
    "    \n",
    "    # select test idxs\n",
    "    test_feats_per_user = []\n",
    "    n_eval_idxs = 2\n",
    "    for i in range(n_users):\n",
    "        unknown = np.where(observed_mat[i] == 0)[0]\n",
    "        try:\n",
    "            feats = np.random.choice(unknown, n_eval_idxs, replace=False)\n",
    "            test_feats_per_user.append(feats)\n",
    "        except:\n",
    "            test_feats_per_user.append([])\n",
    "    # matrix completion\n",
    "    completed_mat = impute(mat, observed_idxs)\n",
    "    \n",
    "    # calculate user cost\n",
    "    user_perf = []\n",
    "    for i,idxs in zip(range(n_users), test_feats_per_user):\n",
    "        if len(idxs) == 0:\n",
    "            user_perf.append(-1)\n",
    "            continue\n",
    "        # I want to compare the test idxs in the completed_mat to the mat\n",
    "        # and calculate the mse per user\n",
    "        diff = completed_mat[i,idxs] - mat [i,idxs]\n",
    "        perf = np.mean(np.square(diff))\n",
    "        user_perf.append(perf)\n",
    "    return np.array(user_perf)"
   ]
  },
  {
   "cell_type": "code",
   "execution_count": null,
   "metadata": {},
   "outputs": [],
   "source": [
    "sns.lineplot(x='n_available', y='cost_var', hue='l_val', data=all_results)\n",
    "plt.xlabel(\"# Available Observations\")\n",
    "plt.ylabel(\"Privacy Cost\")\n",
    "plt.title(\"User Group Method: Effect on Privacy Cost\")"
   ]
  },
  {
   "cell_type": "code",
   "execution_count": null,
   "metadata": {},
   "outputs": [],
   "source": [
    "sns.lineplot(x='n_available', y='rmse', hue='l_val', data=all_results)\n",
    "plt.xlabel(\"# Available Observations\")\n",
    "plt.ylabel(\"Global Performance\")\n",
    "plt.title(\"User Group Method: Effect on Performance\")"
   ]
  },
  {
   "cell_type": "markdown",
   "metadata": {},
   "source": [
    "# How does this affect the distribution in user performance, compared to user performance? We look at an even weighting of privacy and performance cost"
   ]
  },
  {
   "cell_type": "code",
   "execution_count": null,
   "metadata": {},
   "outputs": [],
   "source": [
    "l_val = \"0.5\"\n",
    "idxs_path = \"results/\" + dataset_name + \"/Weighted_usr/601_0.1_0.2_uniform_0.5_0.5_uniform_\" + l_val + \"_False_20_1000_3\"\n",
    "obse_idxs_pth = idxs_path + \"/observed_mats.pkl\"\n",
    "init_idxs_pth = idxs_path + \"/init_mats.pkl\"\n",
    "obse_idxs = pickle.load(open(obse_idxs_pth, 'rb'))\n",
    "init_idxs = pickle.load(open(init_idxs_pth, 'rb'))\n"
   ]
  },
  {
   "cell_type": "code",
   "execution_count": null,
   "metadata": {},
   "outputs": [],
   "source": [
    "run_idxs = \n",
    "obse_idxs = run_idxs[0]\n"
   ]
  },
  {
   "cell_type": "code",
   "execution_count": 5,
   "metadata": {},
   "outputs": [
    {
     "name": "stdout",
     "output_type": "stream",
     "text": [
      "(1000, 4001, 2)\n"
     ]
    },
    {
     "data": {
      "application/vnd.jupyter.widget-view+json": {
       "model_id": "7c96f85ddcd54d629e13d5690fe90132",
       "version_major": 2,
       "version_minor": 0
      },
      "text/plain": [
       "HBox(children=(FloatProgress(value=0.0, max=200.0), HTML(value='')))"
      ]
     },
     "metadata": {},
     "output_type": "display_data"
    },
    {
     "name": "stdout",
     "output_type": "stream",
     "text": [
      "\n",
      "(1000, 4001, 2)\n"
     ]
    },
    {
     "data": {
      "application/vnd.jupyter.widget-view+json": {
       "model_id": "4bea5c28709f493da89e5adb3843f5b8",
       "version_major": 2,
       "version_minor": 0
      },
      "text/plain": [
       "HBox(children=(FloatProgress(value=0.0, max=200.0), HTML(value='')))"
      ]
     },
     "metadata": {},
     "output_type": "display_data"
    },
    {
     "name": "stdout",
     "output_type": "stream",
     "text": [
      "\n",
      "(1000, 4001, 2)\n"
     ]
    },
    {
     "data": {
      "application/vnd.jupyter.widget-view+json": {
       "model_id": "3b610af6fff74beaa1eef330d4a883aa",
       "version_major": 2,
       "version_minor": 0
      },
      "text/plain": [
       "HBox(children=(FloatProgress(value=0.0, max=200.0), HTML(value='')))"
      ]
     },
     "metadata": {},
     "output_type": "display_data"
    },
    {
     "name": "stdout",
     "output_type": "stream",
     "text": [
      "\n",
      "(1000, 4001, 2)\n"
     ]
    },
    {
     "data": {
      "application/vnd.jupyter.widget-view+json": {
       "model_id": "ee8c3d76a8364523acff8d0f2b315f68",
       "version_major": 2,
       "version_minor": 0
      },
      "text/plain": [
       "HBox(children=(FloatProgress(value=0.0, max=200.0), HTML(value='')))"
      ]
     },
     "metadata": {},
     "output_type": "display_data"
    },
    {
     "name": "stdout",
     "output_type": "stream",
     "text": [
      "\n",
      "(1000, 4001, 2)\n"
     ]
    },
    {
     "data": {
      "application/vnd.jupyter.widget-view+json": {
       "model_id": "404ce3a664124fb4ab836b81be8bbf27",
       "version_major": 2,
       "version_minor": 0
      },
      "text/plain": [
       "HBox(children=(FloatProgress(value=0.0, max=200.0), HTML(value='')))"
      ]
     },
     "metadata": {},
     "output_type": "display_data"
    },
    {
     "name": "stdout",
     "output_type": "stream",
     "text": [
      "\n"
     ]
    }
   ],
   "source": [
    "l_vals = [\"0.0\", \"0.01\", \"0.1\", \"0.5\", \"1.0\"]\n",
    "dataset_name = \"abalone\"\n",
    "all_results = []\n",
    "n_runs = 200\n",
    "for l_val in l_vals:\n",
    "    expmt = \"results/\" + dataset_name + \"/Weighted_usr/601_0.1_0.2_uniform_0.5_0.5_uniform_\" + l_val + \"_False_20_1000_3\"\n",
    "    results = pd.read_csv(expmt + '/results_df')\n",
    "    observed_idxs = pickle.load(open(expmt + '/observed_mats.pkl', 'rb'))\n",
    "    \n",
    "    results = results[results['n_available'] == 3941]\n",
    "    results = results[results['run'] < n_runs]\n",
    "    results['l_val'] = float(l_val)\n",
    "    results['rmse'] = np.sqrt(results['mse'])\n",
    "    all_results.append(results)\n",
    "\n",
    "    # fill in urmse for each run\n",
    "    run_urmse = dict()\n",
    "    print(observed_idxs.shape)\n",
    "    for i in tqdm(range(n_runs)):\n",
    "        observed_idx = observed_idxs[i]\n",
    "        user_perf = get_user_performance(dataset_name, observed_idx)\n",
    "        run_urmse[i] = np.mean(user_perf)\n",
    "    results['umse'] = results['run'].map(run_urmse)\n",
    "        \n",
    "all_results = pd.concat(all_results)"
   ]
  },
  {
   "cell_type": "code",
   "execution_count": 23,
   "metadata": {},
   "outputs": [
    {
     "name": "stdout",
     "output_type": "stream",
     "text": [
      "(5, 3891, 2)\n"
     ]
    },
    {
     "data": {
      "application/vnd.jupyter.widget-view+json": {
       "model_id": "2edd580609464a46b3ca06228b326e31",
       "version_major": 2,
       "version_minor": 0
      },
      "text/plain": [
       "HBox(children=(FloatProgress(value=0.0, max=5.0), HTML(value='')))"
      ]
     },
     "metadata": {},
     "output_type": "display_data"
    },
    {
     "name": "stdout",
     "output_type": "stream",
     "text": [
      "\n",
      "(5, 3891, 2)\n"
     ]
    },
    {
     "data": {
      "application/vnd.jupyter.widget-view+json": {
       "model_id": "70855dfb1c964e71beacd29f4a667b12",
       "version_major": 2,
       "version_minor": 0
      },
      "text/plain": [
       "HBox(children=(FloatProgress(value=0.0, max=5.0), HTML(value='')))"
      ]
     },
     "metadata": {},
     "output_type": "display_data"
    },
    {
     "name": "stdout",
     "output_type": "stream",
     "text": [
      "\n",
      "(5, 3891, 2)\n"
     ]
    },
    {
     "data": {
      "application/vnd.jupyter.widget-view+json": {
       "model_id": "aeb6e37781ff44c88322f11c2b3dc3b3",
       "version_major": 2,
       "version_minor": 0
      },
      "text/plain": [
       "HBox(children=(FloatProgress(value=0.0, max=5.0), HTML(value='')))"
      ]
     },
     "metadata": {},
     "output_type": "display_data"
    },
    {
     "name": "stdout",
     "output_type": "stream",
     "text": [
      "\n",
      "(5, 3891, 2)\n"
     ]
    },
    {
     "data": {
      "application/vnd.jupyter.widget-view+json": {
       "model_id": "21922e047649421ea074470ade578b66",
       "version_major": 2,
       "version_minor": 0
      },
      "text/plain": [
       "HBox(children=(FloatProgress(value=0.0, max=5.0), HTML(value='')))"
      ]
     },
     "metadata": {},
     "output_type": "display_data"
    },
    {
     "name": "stdout",
     "output_type": "stream",
     "text": [
      "\n",
      "(5, 3891, 2)\n"
     ]
    },
    {
     "data": {
      "application/vnd.jupyter.widget-view+json": {
       "model_id": "593cb69fbecf42a7a674d02557679b5f",
       "version_major": 2,
       "version_minor": 0
      },
      "text/plain": [
       "HBox(children=(FloatProgress(value=0.0, max=5.0), HTML(value='')))"
      ]
     },
     "metadata": {},
     "output_type": "display_data"
    },
    {
     "name": "stdout",
     "output_type": "stream",
     "text": [
      "\n"
     ]
    }
   ],
   "source": [
    "l_vals = [\"0.0\", \"0.01\", \"0.01\", \"0.25\", \"0.5\"]\n",
    "dataset_name = \"abalone\"\n",
    "greedy_results = []\n",
    "n_runs = 5\n",
    "for l_val in l_vals:\n",
    "    expmt = \"results/\" + dataset_name + \"/Weighted/501_0.1_0.2_uniform_0.5_0.5_uniform_\" + l_val + \"_False_50_5\"\n",
    "    results = pd.read_csv(expmt + '/results_df')\n",
    "    observed_idxs = pickle.load(open(expmt + '/observed_mats.pkl', 'rb'))\n",
    "    \n",
    "    results = results[results['n_available'] == np.max(results['n_available'])]\n",
    "    results = results[results['run'] < n_runs]\n",
    "    results['l_val'] = float(l_val)\n",
    "    results['rmse'] = np.sqrt(results['mse'])\n",
    "\n",
    "    # fill in urmse for each run\n",
    "    run_urmse = dict()\n",
    "    print(observed_idxs.shape)\n",
    "    for i in tqdm(range(n_runs)):\n",
    "        observed_idx = observed_idxs[i]\n",
    "        user_perf = get_user_performance(dataset_name, observed_idx)\n",
    "        run_urmse[i] = np.mean(user_perf)\n",
    "    results['umse'] = results['run'].map(run_urmse)\n",
    "    greedy_results.append(results)\n",
    "        \n",
    "greedy_results = pd.concat(greedy_results)"
   ]
  },
  {
   "cell_type": "code",
   "execution_count": 34,
   "metadata": {},
   "outputs": [
    {
     "data": {
      "image/png": "[encoded data removed]",
      "text/plain": [
       "<Figure size 432x288 with 1 Axes>"
      ]
     },
     "metadata": {
      "needs_background": "light"
     },
     "output_type": "display_data"
    }
   ],
   "source": [
    "y_col = 'mse'\n",
    "sns.lineplot(x='l_val', y=y_col, data=all_results, marker='o')\n",
    "#sns.lineplot(x='l_val', y='mse', data=all_results, marker='o')\n",
    "plt.xlabel(\"Weight of Privacy Cost\")\n",
    "if y_col == 'umse':\n",
    "    plt.ylabel(\"User MSE\")\n",
    "    plt.title(\"Effect of Privacy Cost on User MSE\")\n",
    "else:\n",
    "    plt.ylabel(\"Global MSE\")\n",
    "    plt.title(\"Effect of Privacy Cost on Global MSE\")"
   ]
  },
  {
   "cell_type": "code",
   "execution_count": 30,
   "metadata": {},
   "outputs": [
    {
     "data": {
      "text/plain": [
       "<matplotlib.axes._subplots.AxesSubplot at 0x7f60cad45da0>"
      ]
     },
     "execution_count": 30,
     "metadata": {},
     "output_type": "execute_result"
    },
    {
     "data": {
      "image/png": "[encoded data removed]",
      "text/plain": [
       "<Figure size 432x288 with 1 Axes>"
      ]
     },
     "metadata": {
      "needs_background": "light"
     },
     "output_type": "display_data"
    }
   ],
   "source": [
    "#sns.lineplot(x='l_val', y='umse', data=greedy_results, marker='o')\n",
    "sns.lineplot(x='l_val', y='mse', data=greedy_results, marker='o')"
   ]
  },
  {
   "cell_type": "code",
   "execution_count": null,
   "metadata": {},
   "outputs": [],
   "source": []
  }
 ],
 "metadata": {
  "kernelspec": {
   "display_name": "Python 3",
   "language": "python",
   "name": "python3"
  },
  "language_info": {
   "codemirror_mode": {
    "name": "ipython",
    "version": 3
   },
   "file_extension": ".py",
   "mimetype": "text/x-python",
   "name": "python",
   "nbconvert_exporter": "python",
   "pygments_lexer": "ipython3",
   "version": "3.6.10"
  }
 },
 "nbformat": 4,
 "nbformat_minor": 4
}
