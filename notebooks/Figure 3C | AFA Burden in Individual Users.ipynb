{
 "cells": [
  {
   "cell_type": "code",
   "execution_count": 1,
   "metadata": {},
   "outputs": [],
   "source": [
    "import pickle\n",
    "import numpy as np\n",
    "import pandas as pd\n",
    "import seaborn as sns\n",
    "import matplotlib.pyplot as plt\n",
    "import sys\n",
    "sys.path.append(\"../\")\n",
    "sns.set_style(\"white\")\n",
    "from utils.dataset_helpers import set_to_array\n",
    "\n",
    "#expmt = \"200000_0.1_1_0.5_0.5_uniform_uniform_0.0_30_False_20000_5\"\n",
    "dataset_name = 'ml-20m-tiny'\n",
    "expmt = \"5_False_0.1_0.4_uniform_21000_5250_0_30_1_213973_0.5_0.5_0_0.85\"\n",
    "\n",
    "results_pth = '../results/' + dataset_name + '/Weighted/' + expmt + '/results_df'\n",
    "init_idxs_pth = '../results/' + dataset_name + '/Weighted/' + expmt + '/init_mats.pkl'\n",
    "obse_idxs_pth = '../results/' + dataset_name + '/Weighted/' + expmt + '/observed_mats.pkl'\n",
    "macro_mses_pth = '../results/forecasting/' + dataset_name + '/Weighted/' + expmt + '/macro_mses.npy'"
   ]
  },
  {
   "cell_type": "code",
   "execution_count": 2,
   "metadata": {},
   "outputs": [
    {
     "name": "stdout",
     "output_type": "stream",
     "text": [
      "# of Runs:  5\n"
     ]
    }
   ],
   "source": [
    "obse_idxs = pickle.load(open(obse_idxs_pth, 'rb'))\n",
    "init_idxs = pickle.load(open(init_idxs_pth, 'rb'))\n",
    "#macro_mses = np.load(open(macro_mses_pth))\n",
    "results = pd.read_csv(results_pth)\n",
    "n_runs = len(obse_idxs)\n",
    "print(\"# of Runs: \", n_runs)"
   ]
  },
  {
   "cell_type": "code",
   "execution_count": 4,
   "metadata": {},
   "outputs": [],
   "source": [
    "def get_user_cost(n_users, obse_idx):\n",
    "    user_cost = np.zeros(n_users)\n",
    "    user_feature_map = []\n",
    "    for idx in obse_idx:\n",
    "        user_cost[idx[0]] += 1\n",
    "    return user_cost\n",
    "\n",
    "def get_high_freq_users(X, n_users, n_feats, obse_idx):\n",
    "    n_features = X.shape[1]\n",
    "    user_cost = get_user_cost(n_users, obse_idx)\n",
    "    return np.where(user_cost >= n_feats/2)[0]"
   ]
  },
  {
   "cell_type": "code",
   "execution_count": 19,
   "metadata": {},
   "outputs": [
    {
     "data": {
      "text/plain": [
       "(array([  1.,   2.,   7.,   9.,  13.,  26.,  40.,  86., 216., 451., 340.,\n",
       "          0.,   0.,   0.,   0.,   0.,   0.,   0.,   0.,   0.,   0.]),\n",
       " array([-0.5       , -0.45238095, -0.4047619 , -0.35714286, -0.30952381,\n",
       "        -0.26190476, -0.21428571, -0.16666667, -0.11904762, -0.07142857,\n",
       "        -0.02380952,  0.02380952,  0.07142857,  0.11904762,  0.16666667,\n",
       "         0.21428571,  0.26190476,  0.30952381,  0.35714286,  0.4047619 ,\n",
       "         0.45238095,  0.5       ]),\n",
       " <a list of 21 Patch objects>)"
      ]
     },
     "execution_count": 19,
     "metadata": {},
     "output_type": "execute_result"
    },
    {
     "data": {
      "image/png": "[encoded data removed]",
      "text/plain": [
       "<Figure size 432x288 with 1 Axes>"
      ]
     },
     "metadata": {},
     "output_type": "display_data"
    }
   ],
   "source": [
    "# How many users experience improved performance after all data is collected\n",
    "improved_idxs = np.where( first_run[:,9] < first_run[:,0])[0]\n",
    "worst_idxs = np.where( first_run[:,9] > first_run[:,0])[0]\n",
    "\n",
    "user_deltas = -1*(first_run[:,9] - first_run[:,0])\n",
    "plt.hist(user_deltas[improved_idxs], range=(-.5, .5), bins=21)\n",
    "plt.hist(user_deltas[worst_idxs], range=(-.5, .5), bins=21)"
   ]
  },
  {
   "cell_type": "code",
   "execution_count": 12,
   "metadata": {},
   "outputs": [
    {
     "data": {
      "text/plain": [
       "Text(0.5, 69.0, '# of Features Collected')"
      ]
     },
     "execution_count": 12,
     "metadata": {},
     "output_type": "execute_result"
    },
    {
     "data": {
      "image/png": "[encoded data removed]",
      "text/plain": [
       "<Figure size 432x720 with 1 Axes>"
      ]
     },
     "metadata": {},
     "output_type": "display_data"
    }
   ],
   "source": [
    "# Figure 3C\n",
    "user_costs = get_user_cost(1000, set_to_array(np.expand_dims(obse_idxs[0][5],0)[0]))\n",
    "plt.figure(figsize=(6, 10\n",
    "                   ))\n",
    "plt.hist(user_costs, bins=40)\n",
    "plt.xlim(0, 600)\n",
    "plt.suptitle(\"Distribution of # Collected Feature-Values\")\n",
    "plt.tight_layout(rect=[0, 0.03, 1, 0.95])\n",
    "plt.ylabel(\"# of Users\")\n",
    "plt.xlabel(\"# of Features Collected\")"
   ]
  },
  {
   "cell_type": "code",
   "execution_count": null,
   "metadata": {},
   "outputs": [],
   "source": [
    "len(obse_idxs[0])"
   ]
  },
  {
   "cell_type": "code",
   "execution_count": null,
   "metadata": {},
   "outputs": [],
   "source": [
    "from scipy.stats import pearsonr\n",
    "run_no = 1\n",
    "interval_no = 4\n",
    "n_runs = 5\n",
    "n_intervals = 10\n",
    "for run_no in range(n_runs):\n",
    "    for interval_no in [5]:\n",
    "        run_observed_idxs = set_to_array(np.expand_dims(obse_idxs[run_no][interval_no],0))[0]\n",
    "        run_init_idxs = set_to_array(np.expand_dims(init_idxs[run_no],0)[0])\n",
    "        run_user_costs = get_user_cost(5000, run_observed_idxs)\n",
    "        run_user_init_costs = get_user_cost(5000, run_init_idxs)\n",
    "        run_user_collected_costs = run_user_costs - run_user_init_costs\n",
    "        run_user_mses = user_mses[run_no][interval_no]\n",
    "        print(pearsonr(run_user_init_costs, run_user_mses), pearsonr(run_user_costs, run_user_mses))"
   ]
  },
  {
   "cell_type": "code",
   "execution_count": null,
   "metadata": {},
   "outputs": [],
   "source": [
    "plt.scatter(run_user_collected_costs[np.argsort(run_user_collected_costs)], \n",
    "            run_user_mses[np.argsort(run_user_collected_costs)])"
   ]
  },
  {
   "cell_type": "code",
   "execution_count": null,
   "metadata": {},
   "outputs": [],
   "source": [
    "plt.scatter(run_user_init_costs[np.argsort(run_user_init_costs)], \n",
    "            run_user_collected_costs[np.argsort(run_user_init_costs)])"
   ]
  },
  {
   "cell_type": "code",
   "execution_count": null,
   "metadata": {},
   "outputs": [],
   "source": []
  }
 ],
 "metadata": {
  "kernelspec": {
   "display_name": "Python 3",
   "language": "python",
   "name": "python3"
  },
  "language_info": {
   "codemirror_mode": {
    "name": "ipython",
    "version": 3
   },
   "file_extension": ".py",
   "mimetype": "text/x-python",
   "name": "python",
   "nbconvert_exporter": "python",
   "pygments_lexer": "ipython3",
   "version": "3.7.9"
  }
 },
 "nbformat": 4,
 "nbformat_minor": 4
}
