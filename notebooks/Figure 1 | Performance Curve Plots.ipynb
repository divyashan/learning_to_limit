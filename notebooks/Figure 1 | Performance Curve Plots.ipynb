{
 "cells": [
  {
   "cell_type": "code",
   "execution_count": 6,
   "metadata": {},
   "outputs": [],
   "source": [
    "# Processing results from data collection from all datasets\n",
    "# x axis = % of data collected\n",
    "# y axis = % of performance achieved or MSE \n",
    "import numpy as np\n",
    "import pandas as pd\n",
    "import seaborn as sns\n",
    "import matplotlib.pyplot as plt\n",
    "\n",
    "datasets = ['ml-20m-tiny', 'ml-20m-uniform', 'gl-tiny', 'gl']\n",
    "dataset_titles = {'gl': 'GoogleLocal-L', 'gl-tiny': 'GoogleLocal-S', 'ml-20m-tiny': 'MovieLens-S',\n",
    "                 'ml-20m-uniform': 'MovieLens-L'}\n",
    "\n",
    "dname = 'ml-20m-uniform'\n",
    "early_expmt = \"0.0001_5_False_uniform_30_0.5_0.5_600_1200_12000\"\n",
    "later_expmt = \"0.1_5_False_uniform_30_0.5_0.5_20000_100000_1000001\"\n",
    "ml = (dname, early_expmt, later_expmt)\n",
    "\n",
    "dname = 'gl'\n",
    "early_expmt = \"0.0001_5_False_uniform_30_0.5_0.5_50_580_5800\"\n",
    "later_expmt = \"0.1_5_False_uniform_30_0.5_0.5_5800_29000_290001\"\n",
    "gl = (dname, early_expmt, later_expmt)\n",
    "\n",
    "dname = 'ml-20m-tiny'\n",
    "early_expmt = '0.0001_5_False_uniform_30_0.5_0.5_200_2000_50'\n",
    "later_expmt = '0.1_5_False_uniform_30_0.5_0.5_5250_21000_213973'\n",
    "ml_tiny = (dname, early_expmt, later_expmt)\n",
    "\n",
    "dname = 'gl-tiny'\n",
    "early_expmt = '0.0001_5_False_uniform_30_0.5_0.5_200_25_1000'\n",
    "later_expmt = '0.1_5_False_uniform_30_0.5_0.5_1880_9400_94001'\n",
    "gl_tiny = (dname, early_expmt, later_expmt)\n",
    "\n",
    "all_expmts = [ml_tiny,gl_tiny, ml, gl]\n"
   ]
  },
  {
   "cell_type": "code",
   "execution_count": 7,
   "metadata": {},
   "outputs": [
    {
     "ename": "OSError",
     "evalue": "../results/forecasting/gl-tiny/Random/0.0001_5_False_uniform_30_0.5_0.5_200_25_1000/sample_sizes not found.",
     "output_type": "error",
     "traceback": [
      "\u001b[0;31m---------------------------------------------------------------------------\u001b[0m",
      "\u001b[0;31mOSError\u001b[0m                                   Traceback (most recent call last)",
      "\u001b[0;32m<ipython-input-7-2a744841c4dd>\u001b[0m in \u001b[0;36m<module>\u001b[0;34m\u001b[0m\n\u001b[1;32m      2\u001b[0m \u001b[0;32mfor\u001b[0m \u001b[0mdname\u001b[0m\u001b[0;34m,\u001b[0m \u001b[0mearly_expmt\u001b[0m\u001b[0;34m,\u001b[0m \u001b[0mlater_expmt\u001b[0m \u001b[0;32min\u001b[0m \u001b[0mall_expmts\u001b[0m\u001b[0;34m:\u001b[0m\u001b[0;34m\u001b[0m\u001b[0;34m\u001b[0m\u001b[0m\n\u001b[1;32m      3\u001b[0m     \u001b[0mearly_results_path\u001b[0m \u001b[0;34m=\u001b[0m \u001b[0;34m'../results/forecasting/'\u001b[0m \u001b[0;34m+\u001b[0m \u001b[0mdname\u001b[0m \u001b[0;34m+\u001b[0m \u001b[0;34m'/Random/'\u001b[0m \u001b[0;34m+\u001b[0m \u001b[0mearly_expmt\u001b[0m \u001b[0;34m+\u001b[0m \u001b[0;34m'/'\u001b[0m\u001b[0;34m\u001b[0m\u001b[0;34m\u001b[0m\u001b[0m\n\u001b[0;32m----> 4\u001b[0;31m     \u001b[0mearly_ss\u001b[0m \u001b[0;34m=\u001b[0m \u001b[0mnp\u001b[0m\u001b[0;34m.\u001b[0m\u001b[0mloadtxt\u001b[0m\u001b[0;34m(\u001b[0m\u001b[0mearly_results_path\u001b[0m \u001b[0;34m+\u001b[0m \u001b[0;34m'sample_sizes'\u001b[0m\u001b[0;34m)\u001b[0m\u001b[0;34m\u001b[0m\u001b[0;34m\u001b[0m\u001b[0m\n\u001b[0m\u001b[1;32m      5\u001b[0m     \u001b[0mearly_mses\u001b[0m \u001b[0;34m=\u001b[0m \u001b[0mnp\u001b[0m\u001b[0;34m.\u001b[0m\u001b[0mloadtxt\u001b[0m\u001b[0;34m(\u001b[0m\u001b[0mearly_results_path\u001b[0m \u001b[0;34m+\u001b[0m \u001b[0;34m'mses'\u001b[0m\u001b[0;34m)\u001b[0m\u001b[0;34m\u001b[0m\u001b[0;34m\u001b[0m\u001b[0m\n\u001b[1;32m      6\u001b[0m \u001b[0;34m\u001b[0m\u001b[0m\n",
      "\u001b[0;32m~/.local/lib/python3.7/site-packages/numpy/lib/npyio.py\u001b[0m in \u001b[0;36mloadtxt\u001b[0;34m(fname, dtype, comments, delimiter, converters, skiprows, usecols, unpack, ndmin, encoding, max_rows, like)\u001b[0m\n\u001b[1;32m   1063\u001b[0m             \u001b[0mfname\u001b[0m \u001b[0;34m=\u001b[0m \u001b[0mos_fspath\u001b[0m\u001b[0;34m(\u001b[0m\u001b[0mfname\u001b[0m\u001b[0;34m)\u001b[0m\u001b[0;34m\u001b[0m\u001b[0;34m\u001b[0m\u001b[0m\n\u001b[1;32m   1064\u001b[0m         \u001b[0;32mif\u001b[0m \u001b[0m_is_string_like\u001b[0m\u001b[0;34m(\u001b[0m\u001b[0mfname\u001b[0m\u001b[0;34m)\u001b[0m\u001b[0;34m:\u001b[0m\u001b[0;34m\u001b[0m\u001b[0;34m\u001b[0m\u001b[0m\n\u001b[0;32m-> 1065\u001b[0;31m             \u001b[0mfh\u001b[0m \u001b[0;34m=\u001b[0m \u001b[0mnp\u001b[0m\u001b[0;34m.\u001b[0m\u001b[0mlib\u001b[0m\u001b[0;34m.\u001b[0m\u001b[0m_datasource\u001b[0m\u001b[0;34m.\u001b[0m\u001b[0mopen\u001b[0m\u001b[0;34m(\u001b[0m\u001b[0mfname\u001b[0m\u001b[0;34m,\u001b[0m \u001b[0;34m'rt'\u001b[0m\u001b[0;34m,\u001b[0m \u001b[0mencoding\u001b[0m\u001b[0;34m=\u001b[0m\u001b[0mencoding\u001b[0m\u001b[0;34m)\u001b[0m\u001b[0;34m\u001b[0m\u001b[0;34m\u001b[0m\u001b[0m\n\u001b[0m\u001b[1;32m   1066\u001b[0m             \u001b[0mfencoding\u001b[0m \u001b[0;34m=\u001b[0m \u001b[0mgetattr\u001b[0m\u001b[0;34m(\u001b[0m\u001b[0mfh\u001b[0m\u001b[0;34m,\u001b[0m \u001b[0;34m'encoding'\u001b[0m\u001b[0;34m,\u001b[0m \u001b[0;34m'latin1'\u001b[0m\u001b[0;34m)\u001b[0m\u001b[0;34m\u001b[0m\u001b[0;34m\u001b[0m\u001b[0m\n\u001b[1;32m   1067\u001b[0m             \u001b[0mfh\u001b[0m \u001b[0;34m=\u001b[0m \u001b[0miter\u001b[0m\u001b[0;34m(\u001b[0m\u001b[0mfh\u001b[0m\u001b[0;34m)\u001b[0m\u001b[0;34m\u001b[0m\u001b[0;34m\u001b[0m\u001b[0m\n",
      "\u001b[0;32m~/.local/lib/python3.7/site-packages/numpy/lib/_datasource.py\u001b[0m in \u001b[0;36mopen\u001b[0;34m(path, mode, destpath, encoding, newline)\u001b[0m\n\u001b[1;32m    192\u001b[0m \u001b[0;34m\u001b[0m\u001b[0m\n\u001b[1;32m    193\u001b[0m     \u001b[0mds\u001b[0m \u001b[0;34m=\u001b[0m \u001b[0mDataSource\u001b[0m\u001b[0;34m(\u001b[0m\u001b[0mdestpath\u001b[0m\u001b[0;34m)\u001b[0m\u001b[0;34m\u001b[0m\u001b[0;34m\u001b[0m\u001b[0m\n\u001b[0;32m--> 194\u001b[0;31m     \u001b[0;32mreturn\u001b[0m \u001b[0mds\u001b[0m\u001b[0;34m.\u001b[0m\u001b[0mopen\u001b[0m\u001b[0;34m(\u001b[0m\u001b[0mpath\u001b[0m\u001b[0;34m,\u001b[0m \u001b[0mmode\u001b[0m\u001b[0;34m,\u001b[0m \u001b[0mencoding\u001b[0m\u001b[0;34m=\u001b[0m\u001b[0mencoding\u001b[0m\u001b[0;34m,\u001b[0m \u001b[0mnewline\u001b[0m\u001b[0;34m=\u001b[0m\u001b[0mnewline\u001b[0m\u001b[0;34m)\u001b[0m\u001b[0;34m\u001b[0m\u001b[0;34m\u001b[0m\u001b[0m\n\u001b[0m\u001b[1;32m    195\u001b[0m \u001b[0;34m\u001b[0m\u001b[0m\n\u001b[1;32m    196\u001b[0m \u001b[0;34m\u001b[0m\u001b[0m\n",
      "\u001b[0;32m~/.local/lib/python3.7/site-packages/numpy/lib/_datasource.py\u001b[0m in \u001b[0;36mopen\u001b[0;34m(self, path, mode, encoding, newline)\u001b[0m\n\u001b[1;32m    529\u001b[0m                                       encoding=encoding, newline=newline)\n\u001b[1;32m    530\u001b[0m         \u001b[0;32melse\u001b[0m\u001b[0;34m:\u001b[0m\u001b[0;34m\u001b[0m\u001b[0;34m\u001b[0m\u001b[0m\n\u001b[0;32m--> 531\u001b[0;31m             \u001b[0;32mraise\u001b[0m \u001b[0mIOError\u001b[0m\u001b[0;34m(\u001b[0m\u001b[0;34m\"%s not found.\"\u001b[0m \u001b[0;34m%\u001b[0m \u001b[0mpath\u001b[0m\u001b[0;34m)\u001b[0m\u001b[0;34m\u001b[0m\u001b[0;34m\u001b[0m\u001b[0m\n\u001b[0m\u001b[1;32m    532\u001b[0m \u001b[0;34m\u001b[0m\u001b[0m\n\u001b[1;32m    533\u001b[0m \u001b[0;34m\u001b[0m\u001b[0m\n",
      "\u001b[0;31mOSError\u001b[0m: ../results/forecasting/gl-tiny/Random/0.0001_5_False_uniform_30_0.5_0.5_200_25_1000/sample_sizes not found."
     ]
    }
   ],
   "source": [
    "ss_mse_results = []\n",
    "for dname, early_expmt, later_expmt in all_expmts:\n",
    "    early_results_path = '../results/forecasting/' + dname + '/Random/' + early_expmt + '/'\n",
    "    early_ss = np.loadtxt(early_results_path + 'sample_sizes')\n",
    "    early_mses = np.loadtxt(early_results_path + 'mses')\n",
    "\n",
    "    later_results_path = '../results/forecasting/' + dname + '/Random/' + later_expmt + '/'\n",
    "    later_ss = np.loadtxt(later_results_path + 'sample_sizes')\n",
    "    later_mses = np.loadtxt(later_results_path + 'mses')\n",
    "\n",
    "    n_runs = 5\n",
    "    all_ss = np.concatenate([early_ss[:,3:], later_ss[:]], axis=1)\n",
    "    all_mse =  np.concatenate([early_mses[:,3:], later_mses[:]], axis=1)\n",
    "    for i in range(n_runs):\n",
    "        for ss, mse in zip(all_ss[i], all_mse[i]):\n",
    "            ss_mse_results.append({'ss': ss, 'mse': mse, 'run': i, 'dataset': dname})\n",
    "ss_mse_df = pd.DataFrame(ss_mse_results)\n"
   ]
  },
  {
   "cell_type": "code",
   "execution_count": 5,
   "metadata": {
    "scrolled": true
   },
   "outputs": [
    {
     "ename": "NameError",
     "evalue": "name 'ss_mse_df' is not defined",
     "output_type": "error",
     "traceback": [
      "\u001b[0;31m---------------------------------------------------------------------------\u001b[0m",
      "\u001b[0;31mNameError\u001b[0m                                 Traceback (most recent call last)",
      "\u001b[0;32m<ipython-input-5-56aa4cb27501>\u001b[0m in \u001b[0;36m<module>\u001b[0;34m\u001b[0m\n\u001b[0;32m----> 1\u001b[0;31m \u001b[0mss_mse_df\u001b[0m\u001b[0;34m[\u001b[0m\u001b[0;34m'logss'\u001b[0m\u001b[0;34m]\u001b[0m \u001b[0;34m=\u001b[0m \u001b[0mnp\u001b[0m\u001b[0;34m.\u001b[0m\u001b[0mlog10\u001b[0m\u001b[0;34m(\u001b[0m\u001b[0mss_mse_df\u001b[0m\u001b[0;34m[\u001b[0m\u001b[0;34m'ss'\u001b[0m\u001b[0;34m]\u001b[0m\u001b[0;34m)\u001b[0m\u001b[0;34m\u001b[0m\u001b[0;34m\u001b[0m\u001b[0m\n\u001b[0m\u001b[1;32m      2\u001b[0m \u001b[0mss_mse_df\u001b[0m\u001b[0;34m[\u001b[0m\u001b[0;34m'logmse'\u001b[0m\u001b[0;34m]\u001b[0m \u001b[0;34m=\u001b[0m \u001b[0mnp\u001b[0m\u001b[0;34m.\u001b[0m\u001b[0mlog10\u001b[0m\u001b[0;34m(\u001b[0m\u001b[0mss_mse_df\u001b[0m\u001b[0;34m[\u001b[0m\u001b[0;34m'mse'\u001b[0m\u001b[0;34m]\u001b[0m\u001b[0;34m)\u001b[0m\u001b[0;34m\u001b[0m\u001b[0;34m\u001b[0m\u001b[0m\n\u001b[1;32m      3\u001b[0m \u001b[0;32mfor\u001b[0m \u001b[0mdname\u001b[0m\u001b[0;34m,\u001b[0m \u001b[0mearly_expmt\u001b[0m\u001b[0;34m,\u001b[0m \u001b[0mlater_expmt\u001b[0m \u001b[0;32min\u001b[0m \u001b[0mall_expmts\u001b[0m\u001b[0;34m:\u001b[0m\u001b[0;34m\u001b[0m\u001b[0;34m\u001b[0m\u001b[0m\n\u001b[1;32m      4\u001b[0m     \u001b[0mplt\u001b[0m\u001b[0;34m.\u001b[0m\u001b[0mfigure\u001b[0m\u001b[0;34m(\u001b[0m\u001b[0;34m)\u001b[0m\u001b[0;34m\u001b[0m\u001b[0;34m\u001b[0m\u001b[0m\n\u001b[1;32m      5\u001b[0m     \u001b[0mdname_curve\u001b[0m \u001b[0;34m=\u001b[0m \u001b[0mss_mse_df\u001b[0m\u001b[0;34m[\u001b[0m\u001b[0mss_mse_df\u001b[0m\u001b[0;34m[\u001b[0m\u001b[0;34m'dataset'\u001b[0m\u001b[0;34m]\u001b[0m \u001b[0;34m==\u001b[0m \u001b[0mdname\u001b[0m\u001b[0;34m]\u001b[0m\u001b[0;34m\u001b[0m\u001b[0;34m\u001b[0m\u001b[0m\n",
      "\u001b[0;31mNameError\u001b[0m: name 'ss_mse_df' is not defined"
     ]
    }
   ],
   "source": [
    "ss_mse_df['logss'] = np.log10(ss_mse_df['ss'])\n",
    "ss_mse_df['logmse'] = np.log10(ss_mse_df['mse'])\n",
    "for dname, early_expmt, later_expmt in all_expmts:\n",
    "    plt.figure()\n",
    "    dname_curve = ss_mse_df[ss_mse_df['dataset'] == dname]\n",
    "    sns.lineplot(x='logss', y='logmse', data=dname_curve, hue='dataset', legend=None)\n",
    "    plt.ylabel(\"Log(MSE)\")\n",
    "    # Fix titles here\n",
    "    plt.xlabel(\"Sample Size (log scale)\")\n",
    "    plt.title(dataset_titles[dname])\n",
    "    plt.savefig('../figs/' + dname + '_performance_curve')\n",
    "#plt.xticks([2.0, 3.0, 4.0, 6.0], labels=[\"10e2\", \"10e3\", \"10e4\", \"10e6\"])\n",
    "#plt.xticks([2.0, 3.0, 4.0, 6.0], labels=[\"10e2\", \"10e3\", \"10e4\", \"10e6\"])\n"
   ]
  },
  {
   "cell_type": "code",
   "execution_count": null,
   "metadata": {},
   "outputs": [],
   "source": []
  }
 ],
 "metadata": {
  "kernelspec": {
   "display_name": "Python 3",
   "language": "python",
   "name": "python3"
  },
  "language_info": {
   "codemirror_mode": {
    "name": "ipython",
    "version": 3
   },
   "file_extension": ".py",
   "mimetype": "text/x-python",
   "name": "python",
   "nbconvert_exporter": "python",
   "pygments_lexer": "ipython3",
   "version": "3.7.9"
  }
 },
 "nbformat": 4,
 "nbformat_minor": 4
}
