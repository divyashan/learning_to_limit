{
 "cells": [
  {
   "cell_type": "code",
   "execution_count": 14,
   "metadata": {},
   "outputs": [],
   "source": [
    "import json\n",
    "import pandas as pd\n",
    "\n",
    "def filter_by_freq(df: pd.DataFrame, column: str, min_freq: int) -> pd.DataFrame:\n",
    "    freq = df[column].value_counts()\n",
    "    frequent_values = freq[freq > min_freq].index\n",
    "    return df[df[column].isin(frequent_values)]\n",
    "def create_id_map(sampled_ids):\n",
    "    sampled_ids = sorted(sampled_ids)\n",
    "    id_map = {x:i for i,x in enumerate(sampled_ids)}\n",
    "    return id_map\n",
    "def print_sample_summary(df, user_col_name='userId', item_col_name='movieId'):\n",
    "    n_unique_users = len(set(df[user_col_name]))\n",
    "    n_unique_items = len(set(df[item_col_name]))\n",
    "    n_ratings = len(df)\n",
    "    print(n_ratings, \" ratings, \", n_unique_users, \" users, \", n_unique_items, \" items\")\n",
    "    print(\"Sparsity: \", n_ratings/(n_unique_users*n_unique_items))\n",
    "\n",
    "lines = []\n",
    "for line in open('../datasets/reviews.clean.json').readlines():\n",
    "    lines.append(eval(line))"
   ]
  },
  {
   "cell_type": "code",
   "execution_count": 8,
   "metadata": {},
   "outputs": [],
   "source": [
    "df = pd.DataFrame(lines)\n",
    "df = df.drop(['reviewerName', 'reviewText', 'categories', 'reviewTime'], axis=1)\n",
    "df.to_csv('../dataset/gl_df.csv')"
   ]
  },
  {
   "cell_type": "code",
   "execution_count": 10,
   "metadata": {},
   "outputs": [],
   "source": [
    "df = pd.read_csv('../datasets/gl_df.csv')"
   ]
  },
  {
   "cell_type": "code",
   "execution_count": 11,
   "metadata": {},
   "outputs": [
    {
     "name": "stdout",
     "output_type": "stream",
     "text": [
      "11453845  ratings,  5054567  users,  3116785  items\n",
      "Sparsity:  7.270436722548411e-07\n"
     ]
    }
   ],
   "source": [
    "print_sample_summary(df, 'gPlusUserId', 'gPlusPlaceId')"
   ]
  },
  {
   "cell_type": "code",
   "execution_count": 12,
   "metadata": {},
   "outputs": [
    {
     "name": "stdout",
     "output_type": "stream",
     "text": [
      "438351  ratings,  1571  users,  275402  items\n",
      "Sparsity:  0.0010131616130746037\n"
     ]
    }
   ],
   "source": [
    "filtered_df = filter_by_freq(df, 'gPlusUserId', 150)\n",
    "print_sample_summary(filtered_df, 'gPlusUserId', 'gPlusPlaceId')"
   ]
  },
  {
   "cell_type": "code",
   "execution_count": 13,
   "metadata": {},
   "outputs": [
    {
     "name": "stdout",
     "output_type": "stream",
     "text": [
      "275804  ratings,  1000  users,  189569  items\n",
      "Sparsity:  0.0014549003265301817\n"
     ]
    }
   ],
   "source": [
    "import numpy as np\n",
    "sampled_uids = list(set(filtered_df['gPlusUserId']))\n",
    "sampled_uids = np.random.choice(sampled_uids, 1000, replace=False)\n",
    "filtered_df = filtered_df[filtered_df['gPlusUserId'].isin(sampled_uids)]\n",
    "sampled_mids = list(set(filtered_df['gPlusUserId']))\n",
    "\n",
    "uid_map = create_id_map(sampled_uids)\n",
    "mid_map = create_id_map(sampled_mids)\n",
    "filtered_df['uid'] = filtered_df['gPlusUserId'].map(uid_map)\n",
    "filtered_df['mid'] = filtered_df['gPlusPlaceId'].map(mid_map)\n",
    "print_sample_summary(filtered_df, 'gPlusUserId', 'gPlusPlaceId')"
   ]
  },
  {
   "cell_type": "code",
   "execution_count": null,
   "metadata": {},
   "outputs": [],
   "source": [
    "from sklearn.model_selection import train_test_split\n",
    "\n",
    "filtered_df.to_csv('../datasets/gl/u.data')\n",
    "\n",
    "\n",
    "n_runs = 5\n",
    "for i in range(n_runs):\n",
    "    X = filtered_df.copy()\n",
    "    X = X.sample(frac=1)\n",
    "    uids = X.copy().pop('uid').to_frame()\n",
    "    X_train, X_test, y_train, y_test = train_test_split(X, uids,stratify=uids, test_size=0.2)\n",
    "    X_train['uid'] = y_train.values.squeeze()\n",
    "    X_test['uid'] = y_test.values.squeeze()\n",
    "    X_train.to_csv('../datasets/gl/u' + str(i) + '.base')\n",
    "    X_test.to_csv('../datasets/gl/u' + str(i) + '.test')"
   ]
  },
  {
   "cell_type": "code",
   "execution_count": null,
   "metadata": {},
   "outputs": [],
   "source": []
  },
  {
   "cell_type": "code",
   "execution_count": null,
   "metadata": {},
   "outputs": [],
   "source": []
  }
 ],
 "metadata": {
  "kernelspec": {
   "display_name": "Python 3",
   "language": "python",
   "name": "python3"
  },
  "language_info": {
   "codemirror_mode": {
    "name": "ipython",
    "version": 3
   },
   "file_extension": ".py",
   "mimetype": "text/x-python",
   "name": "python",
   "nbconvert_exporter": "python",
   "pygments_lexer": "ipython3",
   "version": "3.6.10"
  }
 },
 "nbformat": 4,
 "nbformat_minor": 4
}
