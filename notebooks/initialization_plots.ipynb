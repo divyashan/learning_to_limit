{
 "cells": [
  {
   "cell_type": "code",
   "execution_count": 2,
   "metadata": {},
   "outputs": [],
   "source": [
    "import pandas as pd\n",
    "import numpy as np\n",
    "import seaborn as sns\n",
    "\n",
    "init_mode = 'uniform'\n",
    "expmt = \"50001_0.1_1_0.5_0.5_uniform_\" + init_mode + \"_0.0_30_False_1000_10\"\n",
    "results_path = \"./results/ml-20m/Random/\" + expmt\n",
    "data = pd.read_csv(results_path + '/results_df')"
   ]
  },
  {
   "cell_type": "code",
   "execution_count": 3,
   "metadata": {},
   "outputs": [
    {
     "data": {
      "text/plain": [
       "{489692,\n",
       " 490692,\n",
       " 491692,\n",
       " 492692,\n",
       " 493692,\n",
       " 494692,\n",
       " 495692,\n",
       " 496692,\n",
       " 497692,\n",
       " 498692,\n",
       " 499692,\n",
       " 500692,\n",
       " 501692,\n",
       " 502692,\n",
       " 503692,\n",
       " 504692,\n",
       " 505692,\n",
       " 506692,\n",
       " 507692,\n",
       " 508692,\n",
       " 509692,\n",
       " 510692,\n",
       " 511692,\n",
       " 512692,\n",
       " 513692,\n",
       " 514692,\n",
       " 515692,\n",
       " 516692,\n",
       " 517692,\n",
       " 518692,\n",
       " 519692,\n",
       " 520692,\n",
       " 521692,\n",
       " 522692,\n",
       " 523692,\n",
       " 524692,\n",
       " 525692,\n",
       " 526692,\n",
       " 527692,\n",
       " 528692,\n",
       " 529692,\n",
       " 530692,\n",
       " 531692,\n",
       " 532692,\n",
       " 533692,\n",
       " 534692,\n",
       " 535692,\n",
       " 536692,\n",
       " 537692,\n",
       " 538692,\n",
       " 539692}"
      ]
     },
     "execution_count": 3,
     "metadata": {},
     "output_type": "execute_result"
    }
   ],
   "source": [
    "# n collected == 20000\n",
    "set(data['n_available'])"
   ]
  },
  {
   "cell_type": "code",
   "execution_count": null,
   "metadata": {},
   "outputs": [],
   "source": []
  }
 ],
 "metadata": {
  "kernelspec": {
   "display_name": "Python 3",
   "language": "python",
   "name": "python3"
  },
  "language_info": {
   "codemirror_mode": {
    "name": "ipython",
    "version": 3
   },
   "file_extension": ".py",
   "mimetype": "text/x-python",
   "name": "python",
   "nbconvert_exporter": "python",
   "pygments_lexer": "ipython3",
   "version": "3.6.10"
  }
 },
 "nbformat": 4,
 "nbformat_minor": 4
}
